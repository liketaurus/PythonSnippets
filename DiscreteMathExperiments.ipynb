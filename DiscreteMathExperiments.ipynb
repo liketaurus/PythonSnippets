{
  "nbformat": 4,
  "nbformat_minor": 0,
  "metadata": {
    "colab": {
      "name": "DiscreteMathExperiments.ipynb",
      "provenance": [],
      "toc_visible": true
    },
    "kernelspec": {
      "name": "python3",
      "display_name": "Python 3"
    },
    "language_info": {
      "name": "python"
    }
  },
  "cells": [
    {
      "cell_type": "markdown",
      "metadata": {
        "id": "w76oIUkazUg8"
      },
      "source": [
        "# My Discrete Math Experiments\n",
        "\n",
        "Just a samples of some math tasks done with Python."
      ]
    },
    {
      "cell_type": "markdown",
      "metadata": {
        "id": "D-mwqBp19M_d"
      },
      "source": [
        "## [Venn diagrams](https://towardsdatascience.com/how-to-create-and-beautify-venn-diagrams-in-python-331129bd4ed3)"
      ]
    },
    {
      "cell_type": "code",
      "metadata": {
        "id": "nc7lx234yeJu",
        "colab": {
          "base_uri": "https://localhost:8080/",
          "height": 267
        },
        "outputId": "75512579-499c-4800-a390-eafdafb5ecf8"
      },
      "source": [
        "#Import libraries\n",
        "from matplotlib_venn import venn2, venn2_circles, venn2_unweighted\n",
        "from matplotlib_venn import venn3, venn3_circles\n",
        "from matplotlib import pyplot as plt\n",
        "%matplotlib inline\n",
        "\n",
        "# venn2(subsets = (30, 10, 5), set_labels = ('Group A', 'Group B'))\n",
        "# venn3(subsets = (20, 10, 12, 10, 9, 4, 3), set_labels = ('Group A', 'Group B', 'Group C'), alpha = 0.5);\n",
        "\n",
        "plt.title(\"Venn Diagram for three courses\");\n",
        "\n",
        "Course1=['A','B','C','E','F','G','I','P','Q']\n",
        "Course2=['B','E','F','H','K','Q','R','S','T','U','V','Z']\n",
        "Course3=['C','E','G','H','J','K','O','Q','Z']\n",
        "venn3([set(Course1), set(Course2), set(Course3)],set_labels=('Course1', 'Course2', 'Course 3'))\n",
        "plt.show()\n",
        "\n",
        "\n"
      ],
      "execution_count": null,
      "outputs": [
        {
          "output_type": "display_data",
          "data": {
            "image/png": "[encoded data removed]",
            "text/plain": [
              "<Figure size 432x288 with 1 Axes>"
            ]
          },
          "metadata": {
            "tags": []
          }
        }
      ]
    },
    {
      "cell_type": "markdown",
      "metadata": {
        "id": "u9v24YpEneeg"
      },
      "source": [
        "## [Thruth tables](https://pypi.org/project/truth-table-generator/)"
      ]
    },
    {
      "cell_type": "code",
      "metadata": {
        "id": "eYgwJXwroW66"
      },
      "source": [
        "!pip install truth-table-generator"
      ],
      "execution_count": null,
      "outputs": []
    },
    {
      "cell_type": "code",
      "metadata": {
        "id": "3ISVzv2TqdAD",
        "colab": {
          "base_uri": "https://localhost:8080/"
        },
        "outputId": "ddd86090-964c-4891-b73e-e38f70d7ed15"
      },
      "source": [
        "import ttg\n",
        "\n",
        "# print(ttg.Truths(['p', 'q', 'r'], ['p and q and r', 'p or q or r', '(p or (~q)) => r']))\n",
        "\n",
        "table = ttg.Truths(['p', 'q'], ['p => q', 'p = q'])\n",
        "print(table.as_tabulate(index=False)) \n",
        "# table.as_pandas().style.set_properties(**{'text-align': 'center'}).hide_index()"
      ],
      "execution_count": null,
      "outputs": [
        {
          "output_type": "stream",
          "text": [
            "+-----+-----+----------+---------+\n",
            "|  p  |  q  |  p => q  |  p = q  |\n",
            "|-----+-----+----------+---------|\n",
            "|  1  |  1  |    1     |    1    |\n",
            "|  1  |  0  |    0     |    0    |\n",
            "|  0  |  1  |    1     |    0    |\n",
            "|  0  |  0  |    1     |    1    |\n",
            "+-----+-----+----------+---------+\n"
          ],
          "name": "stdout"
        }
      ]
    },
    {
      "cell_type": "markdown",
      "metadata": {
        "id": "84IPpZZ7r3pv"
      },
      "source": [
        "## [Graph Theory](https://www.python-course.eu/graphs_python.php)"
      ]
    },
    {
      "cell_type": "code",
      "metadata": {
        "id": "rlAWUAlmsxnE",
        "colab": {
          "base_uri": "https://localhost:8080/"
        },
        "outputId": "7816d05d-0129-4bab-af1a-3b56e55ebbbe"
      },
      "source": [
        "graph = { \"a\" : [\"c\"],\n",
        "          \"b\" : [\"c\", \"e\"],\n",
        "          \"c\" : [\"a\", \"b\", \"d\", \"e\"],\n",
        "          \"d\" : [\"c\"],\n",
        "          \"e\" : [\"c\", \"b\"],\n",
        "          \"f\" : []\n",
        "        }\n",
        "\n",
        "def generate_edges(graph):\n",
        "    edges = []\n",
        "    for node in graph:\n",
        "        for neighbour in graph[node]:\n",
        "            edges.append((node, neighbour))\n",
        "\n",
        "    return edges\n",
        "\n",
        "print(generate_edges(graph))"
      ],
      "execution_count": null,
      "outputs": [
        {
          "output_type": "stream",
          "text": [
            "[('a', 'c'), ('b', 'c'), ('b', 'e'), ('c', 'a'), ('c', 'b'), ('c', 'd'), ('c', 'e'), ('d', 'c'), ('e', 'c'), ('e', 'b')]\n"
          ],
          "name": "stdout"
        }
      ]
    },
    {
      "cell_type": "markdown",
      "metadata": {
        "id": "10WB7TpXtKOg"
      },
      "source": [
        "![](https://www.python-course.eu/images/simple_graph_isolated.png)"
      ]
    },
    {
      "cell_type": "code",
      "metadata": {
        "id": "Hy2qKiBNtTxh",
        "colab": {
          "base_uri": "https://localhost:8080/",
          "height": 319
        },
        "outputId": "9e545d25-a6e2-4b1f-fe62-1a3b2e7f6951"
      },
      "source": [
        "# libraries\n",
        "import pandas as pd\n",
        "import numpy as np\n",
        "import networkx as nx\n",
        "import matplotlib.pyplot as plt\n",
        " \n",
        "# Build a dataframe with your connections\n",
        "df = pd.DataFrame({ 'from':['A', 'B', 'C', 'D', 'E', 'F'], 'to':['C', 'E', 'B', 'C', 'C', 'F']})\n",
        " \n",
        "# Build your graph\n",
        "G=nx.from_pandas_edgelist(df, 'from', 'to')\n",
        " \n",
        "# All together we can do something fancy\n",
        "nx.draw(G, with_labels=True, node_size=900, node_color=\"skyblue\", node_shape=\"o\", alpha=0.5, linewidths=4, font_size=25, \n",
        "        font_color=\"grey\", font_weight=\"bold\", width=2, edge_color=\"grey\")"
      ],
      "execution_count": null,
      "outputs": [
        {
          "output_type": "display_data",
          "data": {
            "image/png": "[encoded data removed]",
            "text/plain": [
              "<Figure size 432x288 with 1 Axes>"
            ]
          },
          "metadata": {
            "tags": []
          }
        }
      ]
    },
    {
      "cell_type": "markdown",
      "metadata": {
        "id": "fXxNtl3exNyb"
      },
      "source": [
        "## [Math logic](https://docs.sympy.org/latest/modules/logic.html) with [SymPy](https://www.sympy.org/en/index.html) "
      ]
    },
    {
      "cell_type": "markdown",
      "metadata": {
        "id": "i4SnUfAd9Ft4"
      },
      "source": [
        "### Simplify expression"
      ]
    },
    {
      "cell_type": "code",
      "metadata": {
        "id": "9g5Qu63Vx-H5",
        "colab": {
          "base_uri": "https://localhost:8080/",
          "height": 39
        },
        "outputId": "3ebc3f3a-af75-40b5-c6fe-67ca9990f32d"
      },
      "source": [
        "from sympy.logic import simplify_logic\n",
        "from sympy.abc import x, y, z\n",
        "from sympy import S\n",
        "\n",
        "b = (~x & ~y & ~z) | ( ~x & ~y & z)\n",
        "simplify_logic(b)"
      ],
      "execution_count": null,
      "outputs": [
        {
          "output_type": "execute_result",
          "data": {
            "text/latex": "$\\displaystyle \\neg x \\wedge \\neg y$",
            "text/plain": [
              "~x & ~y"
            ]
          },
          "metadata": {
            "tags": []
          },
          "execution_count": 63
        }
      ]
    },
    {
      "cell_type": "markdown",
      "metadata": {
        "id": "DwRjX9J2yWWt"
      },
      "source": [
        "### DNF and CNF"
      ]
    },
    {
      "cell_type": "code",
      "metadata": {
        "id": "P0HR_aYtygPl",
        "colab": {
          "base_uri": "https://localhost:8080/",
          "height": 39
        },
        "outputId": "fac3551c-107c-49a1-add9-ac03dbe20a68"
      },
      "source": [
        "from sympy.logic.boolalg import to_cnf\n",
        "from sympy.abc import A, B, D\n",
        "\n",
        "to_cnf(~(A | B) | D)"
      ],
      "execution_count": null,
      "outputs": [
        {
          "output_type": "execute_result",
          "data": {
            "text/latex": "$\\displaystyle \\left(D \\vee \\neg A\\right) \\wedge \\left(D \\vee \\neg B\\right)$",
            "text/plain": [
              "(D | ~A) & (D | ~B)"
            ]
          },
          "metadata": {
            "tags": []
          },
          "execution_count": 64
        }
      ]
    },
    {
      "cell_type": "code",
      "metadata": {
        "id": "ZvbVlJXZyjdX",
        "colab": {
          "base_uri": "https://localhost:8080/",
          "height": 39
        },
        "outputId": "addcffc5-3a74-47b8-d4ed-b4069c702537"
      },
      "source": [
        "from sympy.logic.boolalg import to_dnf\n",
        "from sympy.abc import A, B, C\n",
        "\n",
        "to_dnf(B & (A | C))"
      ],
      "execution_count": null,
      "outputs": [
        {
          "output_type": "execute_result",
          "data": {
            "text/latex": "$\\displaystyle \\left(A \\wedge B\\right) \\vee \\left(B \\wedge C\\right)$",
            "text/plain": [
              "(A & B) | (B & C)"
            ]
          },
          "metadata": {
            "tags": []
          },
          "execution_count": 65
        }
      ]
    },
    {
      "cell_type": "markdown",
      "metadata": {
        "id": "dDthzfP-zcMn"
      },
      "source": [
        "## [Matrices](https://docs.sympy.org/latest/tutorial/matrices.html)"
      ]
    },
    {
      "cell_type": "code",
      "metadata": {
        "id": "H7JVjuCezckO",
        "colab": {
          "base_uri": "https://localhost:8080/",
          "height": 58
        },
        "outputId": "197d69ea-a0ec-47ad-cc44-2a1465febb3e"
      },
      "source": [
        "from sympy import *\n",
        "init_printing(use_unicode=True)\n",
        "\n",
        "M = Matrix([[1, 3], [-2, 3]])\n",
        "N = Matrix([[0, 3], [0, 7]])\n",
        "M + N\n",
        "\n"
      ],
      "execution_count": null,
      "outputs": [
        {
          "output_type": "execute_result",
          "data": {
            "text/latex": "$\\displaystyle \\left[\\begin{matrix}1 & 6\\\\-2 & 10\\end{matrix}\\right]$",
            "text/plain": [
              "⎡1   6 ⎤\n",
              "⎢      ⎥\n",
              "⎣-2  10⎦"
            ]
          },
          "metadata": {
            "tags": []
          },
          "execution_count": 74
        }
      ]
    },
    {
      "cell_type": "code",
      "metadata": {
        "id": "abk-vbJK0SQr",
        "colab": {
          "base_uri": "https://localhost:8080/",
          "height": 58
        },
        "outputId": "97460e06-dd66-4b25-a919-7d7d999d0602"
      },
      "source": [
        "M*N"
      ],
      "execution_count": null,
      "outputs": [
        {
          "output_type": "execute_result",
          "data": {
            "text/latex": "$\\displaystyle \\left[\\begin{matrix}0 & 24\\\\0 & 15\\end{matrix}\\right]$",
            "text/plain": [
              "⎡0  24⎤\n",
              "⎢     ⎥\n",
              "⎣0  15⎦"
            ]
          },
          "metadata": {
            "tags": []
          },
          "execution_count": 75
        }
      ]
    },
    {
      "cell_type": "code",
      "metadata": {
        "id": "IDKg6bLM0V6a",
        "colab": {
          "base_uri": "https://localhost:8080/",
          "height": 58
        },
        "outputId": "84e077bf-c15c-469f-ba04-c142efd2996c"
      },
      "source": [
        "M.T"
      ],
      "execution_count": null,
      "outputs": [
        {
          "output_type": "execute_result",
          "data": {
            "text/latex": "$\\displaystyle \\left[\\begin{matrix}1 & -2\\\\3 & 3\\end{matrix}\\right]$",
            "text/plain": [
              "⎡1  -2⎤\n",
              "⎢     ⎥\n",
              "⎣3  3 ⎦"
            ]
          },
          "metadata": {
            "tags": []
          },
          "execution_count": 76
        }
      ]
    },
    {
      "cell_type": "markdown",
      "metadata": {
        "id": "I837B7K-viib"
      },
      "source": [
        "## [Maps](https://www.python-graph-gallery.com/288-map-background-with-folium) with [Folium](https://python-visualization.github.io/folium/quickstart.html)"
      ]
    },
    {
      "cell_type": "code",
      "metadata": {
        "id": "pNR3HcXsvi1k",
        "colab": {
          "base_uri": "https://localhost:8080/",
          "height": 505
        },
        "outputId": "1ff20201-2c8a-4d9f-f16a-d9c926414d23"
      },
      "source": [
        "# Import the folium library\n",
        "import folium\n",
        "\n",
        "# Build the default map for a specific location\n",
        "map = folium.Map(location=[49.590033669823875, 34.550941823527936], zoom_start=16)\n",
        "tooltip = \"Сlick to know more!\"\n",
        "folium.Circle(\n",
        "    radius=60,\n",
        "    location=[49.58771238565784, 34.54304621524288], \n",
        "    popup=\"Poltava Polytechnic College\",\n",
        "    color=\"crimson\",\n",
        "    fill=True,\n",
        "    fill_color=\"#3186cc\"\n",
        ").add_to(map)\n",
        "folium.Marker(\n",
        "    [49.58771238565784, 34.54304621524288], \n",
        "    popup=\"<h3>Poltava Polytechnic College</h3><p><img src='https://lh5.googleusercontent.com/p/AF1QipOlUnNjdQfAK43eX9D2GNeUVoBSONhfGbwsT12S=w408-h272-k-no'/><br/><br/><a href='http://www.polytechnic.poltava.ua/' target='blank'>Official website</a></p>\", \n",
        "    tooltip=tooltip,\n",
        "    icon=folium.Icon(color=\"green\", icon=\"info-sign\")\n",
        ").add_to(map)\n",
        "map"
      ],
      "execution_count": 22,
      "outputs": [
        {
          "output_type": "execute_result",
          "data": {
            "text/html": [
              "<div style=\"width:100%;\"><div style=\"position:relative;width:100%;height:0;padding-bottom:60%;\"><span style=\"color:#565656\">Make this Notebook Trusted to load map: File -> Trust Notebook</span><iframe src=\"about:blank\" style=\"position:absolute;width:100%;height:100%;left:0;top:0;border:none !important;\" data-html=%3C%21DOCTYPE%20html%3E%0A%3Chead%3E%20%20%20%20%0A%20%20%20%20%3Cmeta%20http-equiv%3D%22content-type%22%20content%3D%22text/html%3B%20charset%3DUTF-8%22%20/%3E%0A%20%20%20%20%3Cscript%3EL_PREFER_CANVAS%3Dfalse%3B%20L_NO_TOUCH%3Dfalse%3B%20L_DISABLE_3D%3Dfalse%3B%3C/script%3E%0A%20%20%20%20%3Cscript%20src%3D%22https%3A//cdn.jsdelivr.net/npm/leaflet%401.4.0/dist/leaflet.js%22%3E%3C/script%3E%0A%20%20%20%20%3Cscript%20src%3D%22https%3A//code.jquery.com/jquery-1.12.4.min.js%22%3E%3C/script%3E%0A%20%20%20%20%3Cscript%20src%3D%22https%3A//maxcdn.bootstrapcdn.com/bootstrap/3.2.0/js/bootstrap.min.js%22%3E%3C/script%3E%0A%20%20%20%20%3Cscript%20src%3D%22https%3A//cdnjs.cloudflare.com/ajax/libs/Leaflet.awesome-markers/2.0.2/leaflet.awesome-markers.js%22%3E%3C/script%3E%0A%20%20%20%20%3Clink%20rel%3D%22stylesheet%22%20href%3D%22https%3A//cdn.jsdelivr.net/npm/leaflet%401.4.0/dist/leaflet.css%22/%3E%0A%20%20%20%20%3Clink%20rel%3D%22stylesheet%22%20href%3D%22https%3A//maxcdn.bootstrapcdn.com/bootstrap/3.2.0/css/bootstrap.min.css%22/%3E%0A%20%20%20%20%3Clink%20rel%3D%22stylesheet%22%20href%3D%22https%3A//maxcdn.bootstrapcdn.com/bootstrap/3.2.0/css/bootstrap-theme.min.css%22/%3E%0A%20%20%20%20%3Clink%20rel%3D%22stylesheet%22%20href%3D%22https%3A//maxcdn.bootstrapcdn.com/font-awesome/4.6.3/css/font-awesome.min.css%22/%3E%0A%20%20%20%20%3Clink%20rel%3D%22stylesheet%22%20href%3D%22https%3A//cdnjs.cloudflare.com/ajax/libs/Leaflet.awesome-markers/2.0.2/leaflet.awesome-markers.css%22/%3E%0A%20%20%20%20%3Clink%20rel%3D%22stylesheet%22%20href%3D%22https%3A//rawcdn.githack.com/python-visualization/folium/master/folium/templates/leaflet.awesome.rotate.css%22/%3E%0A%20%20%20%20%3Cstyle%3Ehtml%2C%20body%20%7Bwidth%3A%20100%25%3Bheight%3A%20100%25%3Bmargin%3A%200%3Bpadding%3A%200%3B%7D%3C/style%3E%0A%20%20%20%20%3Cstyle%3E%23map%20%7Bposition%3Aabsolute%3Btop%3A0%3Bbottom%3A0%3Bright%3A0%3Bleft%3A0%3B%7D%3C/style%3E%0A%20%20%20%20%0A%20%20%20%20%3Cmeta%20name%3D%22viewport%22%20content%3D%22width%3Ddevice-width%2C%0A%20%20%20%20%20%20%20%20initial-scale%3D1.0%2C%20maximum-scale%3D1.0%2C%20user-scalable%3Dno%22%20/%3E%0A%20%20%20%20%3Cstyle%3E%23map_7ee1d6b6f87540d282686da5977dd9fe%20%7B%0A%20%20%20%20%20%20%20%20position%3A%20relative%3B%0A%20%20%20%20%20%20%20%20width%3A%20100.0%25%3B%0A%20%20%20%20%20%20%20%20height%3A%20100.0%25%3B%0A%20%20%20%20%20%20%20%20left%3A%200.0%25%3B%0A%20%20%20%20%20%20%20%20top%3A%200.0%25%3B%0A%20%20%20%20%20%20%20%20%7D%0A%20%20%20%20%3C/style%3E%0A%3C/head%3E%0A%3Cbody%3E%20%20%20%20%0A%20%20%20%20%0A%20%20%20%20%3Cdiv%20class%3D%22folium-map%22%20id%3D%22map_7ee1d6b6f87540d282686da5977dd9fe%22%20%3E%3C/div%3E%0A%3C/body%3E%0A%3Cscript%3E%20%20%20%20%0A%20%20%20%20%0A%20%20%20%20%0A%20%20%20%20%20%20%20%20var%20bounds%20%3D%20null%3B%0A%20%20%20%20%0A%0A%20%20%20%20var%20map_7ee1d6b6f87540d282686da5977dd9fe%20%3D%20L.map%28%0A%20%20%20%20%20%20%20%20%27map_7ee1d6b6f87540d282686da5977dd9fe%27%2C%20%7B%0A%20%20%20%20%20%20%20%20center%3A%20%5B49.590033669823875%2C%2034.550941823527936%5D%2C%0A%20%20%20%20%20%20%20%20zoom%3A%2016%2C%0A%20%20%20%20%20%20%20%20maxBounds%3A%20bounds%2C%0A%20%20%20%20%20%20%20%20layers%3A%20%5B%5D%2C%0A%20%20%20%20%20%20%20%20worldCopyJump%3A%20false%2C%0A%20%20%20%20%20%20%20%20crs%3A%20L.CRS.EPSG3857%2C%0A%20%20%20%20%20%20%20%20zoomControl%3A%20true%2C%0A%20%20%20%20%20%20%20%20%7D%29%3B%0A%0A%0A%20%20%20%20%0A%20%20%20%20var%20tile_layer_48387636d4354a5b9d80eaeb5b8438dd%20%3D%20L.tileLayer%28%0A%20%20%20%20%20%20%20%20%27https%3A//%7Bs%7D.tile.openstreetmap.org/%7Bz%7D/%7Bx%7D/%7By%7D.png%27%2C%0A%20%20%20%20%20%20%20%20%7B%0A%20%20%20%20%20%20%20%20%22attribution%22%3A%20null%2C%0A%20%20%20%20%20%20%20%20%22detectRetina%22%3A%20false%2C%0A%20%20%20%20%20%20%20%20%22maxNativeZoom%22%3A%2018%2C%0A%20%20%20%20%20%20%20%20%22maxZoom%22%3A%2018%2C%0A%20%20%20%20%20%20%20%20%22minZoom%22%3A%200%2C%0A%20%20%20%20%20%20%20%20%22noWrap%22%3A%20false%2C%0A%20%20%20%20%20%20%20%20%22opacity%22%3A%201%2C%0A%20%20%20%20%20%20%20%20%22subdomains%22%3A%20%22abc%22%2C%0A%20%20%20%20%20%20%20%20%22tms%22%3A%20false%0A%7D%29.addTo%28map_7ee1d6b6f87540d282686da5977dd9fe%29%3B%0A%20%20%20%20%0A%0A%20%20%20%20%20%20%20%20%20%20%20%20var%20circle_2b23acde003345898dd4432ba328df79%20%3D%20L.circle%28%0A%20%20%20%20%20%20%20%20%20%20%20%20%20%20%20%20%5B49.58771238565784%2C%2034.54304621524288%5D%2C%0A%20%20%20%20%20%20%20%20%20%20%20%20%20%20%20%20%7B%0A%20%20%22bubblingMouseEvents%22%3A%20true%2C%0A%20%20%22color%22%3A%20%22crimson%22%2C%0A%20%20%22dashArray%22%3A%20null%2C%0A%20%20%22dashOffset%22%3A%20null%2C%0A%20%20%22fill%22%3A%20true%2C%0A%20%20%22fillColor%22%3A%20%22%233186cc%22%2C%0A%20%20%22fillOpacity%22%3A%200.2%2C%0A%20%20%22fillRule%22%3A%20%22evenodd%22%2C%0A%20%20%22lineCap%22%3A%20%22round%22%2C%0A%20%20%22lineJoin%22%3A%20%22round%22%2C%0A%20%20%22opacity%22%3A%201.0%2C%0A%20%20%22radius%22%3A%2060%2C%0A%20%20%22stroke%22%3A%20true%2C%0A%20%20%22weight%22%3A%203%0A%7D%0A%20%20%20%20%20%20%20%20%20%20%20%20%20%20%20%20%29%0A%20%20%20%20%20%20%20%20%20%20%20%20%20%20%20%20.addTo%28map_7ee1d6b6f87540d282686da5977dd9fe%29%3B%0A%20%20%20%20%20%20%20%20%20%20%20%20%0A%20%20%20%20%0A%20%20%20%20%20%20%20%20%20%20%20%20var%20popup_973ed3b434bb4189bf2e0f9e22845657%20%3D%20L.popup%28%7BmaxWidth%3A%20%27100%25%27%0A%20%20%20%20%20%20%20%20%20%20%20%20%0A%20%20%20%20%20%20%20%20%20%20%20%20%7D%29%3B%0A%0A%20%20%20%20%20%20%20%20%20%20%20%20%0A%20%20%20%20%20%20%20%20%20%20%20%20%20%20%20%20var%20html_12dcc67fdbf44e4ba7a212af39b03445%20%3D%20%24%28%60%3Cdiv%20id%3D%22html_12dcc67fdbf44e4ba7a212af39b03445%22%20style%3D%22width%3A%20100.0%25%3B%20height%3A%20100.0%25%3B%22%3EPoltava%20Polytechnic%20College%3C/div%3E%60%29%5B0%5D%3B%0A%20%20%20%20%20%20%20%20%20%20%20%20%20%20%20%20popup_973ed3b434bb4189bf2e0f9e22845657.setContent%28html_12dcc67fdbf44e4ba7a212af39b03445%29%3B%0A%20%20%20%20%20%20%20%20%20%20%20%20%0A%0A%20%20%20%20%20%20%20%20%20%20%20%20circle_2b23acde003345898dd4432ba328df79.bindPopup%28popup_973ed3b434bb4189bf2e0f9e22845657%29%0A%20%20%20%20%20%20%20%20%20%20%20%20%3B%0A%0A%20%20%20%20%20%20%20%20%20%20%20%20%0A%20%20%20%20%20%20%20%20%0A%20%20%20%20%0A%20%20%20%20%20%20%20%20var%20marker_57030c3a3fb0417aab6730fec8b44d9c%20%3D%20L.marker%28%0A%20%20%20%20%20%20%20%20%20%20%20%20%5B49.58771238565784%2C%2034.54304621524288%5D%2C%0A%20%20%20%20%20%20%20%20%20%20%20%20%7B%0A%20%20%20%20%20%20%20%20%20%20%20%20%20%20%20%20icon%3A%20new%20L.Icon.Default%28%29%2C%0A%20%20%20%20%20%20%20%20%20%20%20%20%20%20%20%20%7D%0A%20%20%20%20%20%20%20%20%20%20%20%20%29.addTo%28map_7ee1d6b6f87540d282686da5977dd9fe%29%3B%0A%20%20%20%20%20%20%20%20%0A%20%20%20%20%0A%0A%20%20%20%20%20%20%20%20%20%20%20%20%20%20%20%20var%20icon_4b368e7b07a547b5b741ea4cebcab9bf%20%3D%20L.AwesomeMarkers.icon%28%7B%0A%20%20%20%20%20%20%20%20%20%20%20%20%20%20%20%20%20%20%20%20icon%3A%20%27info-sign%27%2C%0A%20%20%20%20%20%20%20%20%20%20%20%20%20%20%20%20%20%20%20%20iconColor%3A%20%27white%27%2C%0A%20%20%20%20%20%20%20%20%20%20%20%20%20%20%20%20%20%20%20%20markerColor%3A%20%27green%27%2C%0A%20%20%20%20%20%20%20%20%20%20%20%20%20%20%20%20%20%20%20%20prefix%3A%20%27glyphicon%27%2C%0A%20%20%20%20%20%20%20%20%20%20%20%20%20%20%20%20%20%20%20%20extraClasses%3A%20%27fa-rotate-0%27%0A%20%20%20%20%20%20%20%20%20%20%20%20%20%20%20%20%20%20%20%20%7D%29%3B%0A%20%20%20%20%20%20%20%20%20%20%20%20%20%20%20%20marker_57030c3a3fb0417aab6730fec8b44d9c.setIcon%28icon_4b368e7b07a547b5b741ea4cebcab9bf%29%3B%0A%20%20%20%20%20%20%20%20%20%20%20%20%0A%20%20%20%20%0A%20%20%20%20%20%20%20%20%20%20%20%20var%20popup_499514cf9a7844a49b646fc44f6300aa%20%3D%20L.popup%28%7BmaxWidth%3A%20%27100%25%27%0A%20%20%20%20%20%20%20%20%20%20%20%20%0A%20%20%20%20%20%20%20%20%20%20%20%20%7D%29%3B%0A%0A%20%20%20%20%20%20%20%20%20%20%20%20%0A%20%20%20%20%20%20%20%20%20%20%20%20%20%20%20%20var%20html_d8a3da01316f4cab8d0ac2cd5144d179%20%3D%20%24%28%60%3Cdiv%20id%3D%22html_d8a3da01316f4cab8d0ac2cd5144d179%22%20style%3D%22width%3A%20100.0%25%3B%20height%3A%20100.0%25%3B%22%3E%3Ch3%3EPoltava%20Polytechnic%20College%3C/h3%3E%3Cp%3E%3Cimg%20src%3D%27https%3A//lh5.googleusercontent.com/p/AF1QipOlUnNjdQfAK43eX9D2GNeUVoBSONhfGbwsT12S%3Dw408-h272-k-no%27/%3E%3Cbr/%3E%3Cbr/%3E%3Ca%20href%3D%27http%3A//www.polytechnic.poltava.ua/%27%20target%3D%27blank%27%3EOfficial%20website%3C/a%3E%3C/p%3E%3C/div%3E%60%29%5B0%5D%3B%0A%20%20%20%20%20%20%20%20%20%20%20%20%20%20%20%20popup_499514cf9a7844a49b646fc44f6300aa.setContent%28html_d8a3da01316f4cab8d0ac2cd5144d179%29%3B%0A%20%20%20%20%20%20%20%20%20%20%20%20%0A%0A%20%20%20%20%20%20%20%20%20%20%20%20marker_57030c3a3fb0417aab6730fec8b44d9c.bindPopup%28popup_499514cf9a7844a49b646fc44f6300aa%29%0A%20%20%20%20%20%20%20%20%20%20%20%20%3B%0A%0A%20%20%20%20%20%20%20%20%20%20%20%20%0A%20%20%20%20%20%20%20%20%0A%20%20%20%20%0A%20%20%20%20%20%20%20%20marker_57030c3a3fb0417aab6730fec8b44d9c.bindTooltip%28%0A%20%20%20%20%20%20%20%20%20%20%20%20%60%3Cdiv%3E%60%0A%20%20%20%20%20%20%20%20%20%20%20%20%2B%20%60%D0%A1lick%20to%20know%20more%21%60%20%2B%20%60%3C/div%3E%60%2C%0A%20%20%20%20%20%20%20%20%20%20%20%20%7B%22sticky%22%3A%20true%7D%0A%20%20%20%20%20%20%20%20%29%3B%0A%20%20%20%20%20%20%20%20%0A%3C/script%3E onload=\"this.contentDocument.open();this.contentDocument.write(    decodeURIComponent(this.getAttribute('data-html')));this.contentDocument.close();\" allowfullscreen webkitallowfullscreen mozallowfullscreen></iframe></div></div>"
            ],
            "text/plain": [
              "<folium.folium.Map at 0x7f1896602690>"
            ]
          },
          "metadata": {
            "tags": []
          },
          "execution_count": 22
        }
      ]
    },
    {
      "cell_type": "markdown",
      "metadata": {
        "id": "5olwYWFw8ofi"
      },
      "source": [
        "## QR Codes"
      ]
    },
    {
      "cell_type": "code",
      "metadata": {
        "colab": {
          "base_uri": "https://localhost:8080/"
        },
        "id": "oF8Qt0qf8ovp",
        "outputId": "806b953c-89cf-44a0-d2c6-2172e342dd76"
      },
      "source": [
        "!pip install \"qrcode[pil]\""
      ],
      "execution_count": 18,
      "outputs": [
        {
          "output_type": "stream",
          "text": [
            "Collecting qrcode[pil]\n",
            "  Downloading https://files.pythonhosted.org/packages/42/87/4a3a77e59ab7493d64da1f69bf1c2e899a4cf81e51b2baa855e8cc8115be/qrcode-6.1-py2.py3-none-any.whl\n",
            "Requirement already satisfied: six in /usr/local/lib/python3.7/dist-packages (from qrcode[pil]) (1.15.0)\n",
            "Requirement already satisfied: pillow; extra == \"pil\" in /usr/local/lib/python3.7/dist-packages (from qrcode[pil]) (7.1.2)\n",
            "Installing collected packages: qrcode\n",
            "Successfully installed qrcode-6.1\n"
          ],
          "name": "stdout"
        }
      ]
    },
    {
      "cell_type": "code",
      "metadata": {
        "colab": {
          "base_uri": "https://localhost:8080/",
          "height": 387
        },
        "id": "SmKnCtmr8svx",
        "outputId": "25f3acb7-cdd4-428a-980c-4d37f43dbe86"
      },
      "source": [
        "import qrcode\n",
        "img = qrcode.make('http://polytechnic.poltava.ua')\n",
        "img"
      ],
      "execution_count": 21,
      "outputs": [
        {
          "output_type": "execute_result",
          "data": {
            "image/png": "[encoded data removed]",
            "text/plain": [
              "<qrcode.image.pil.PilImage at 0x7f18966ef6d0>"
            ]
          },
          "metadata": {
            "tags": []
          },
          "execution_count": 21
        }
      ]
    }
  ]
}