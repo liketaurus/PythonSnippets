{
  "nbformat": 4,
  "nbformat_minor": 0,
  "metadata": {
    "colab": {
      "name": "COVIDUkraineData",
      "provenance": [],
      "collapsed_sections": []
    },
    "kernelspec": {
      "name": "python3",
      "display_name": "Python 3"
    },
    "language_info": {
      "name": "python"
    },
    "widgets": {
      "application/vnd.jupyter.widget-state+json": {
        "a3abd0094b2f418da2bc5253232381e1": {
          "model_module": "@jupyter-widgets/controls",
          "model_name": "DropdownModel",
          "state": {
            "_options_labels": [
              "оберіть область",
              "Івано-Франківська",
              "Волинська",
              "Вінницька",
              "Дніпропетровська",
              "Донецька",
              "Житомирська",
              "Закарпатська",
              "Запорізька",
              "Київська",
              "Кіровоградська",
              "Луганська",
              "Львівська",
              "Миколаївська",
              "Одеська",
              "Полтавська",
              "Рівненська",
              "Сумська",
              "Тернопільська",
              "Харківська",
              "Херсонська",
              "Хмельницька",
              "Черкаська",
              "Чернівецька",
              "Чернігівська",
              "м. Київ"
            ],
            "_view_name": "DropdownView",
            "style": "IPY_MODEL_ad7aab6ac0fa42be9278344f41b3d4ae",
            "_dom_classes": [],
            "description": "",
            "_model_name": "DropdownModel",
            "index": 15,
            "_view_module": "@jupyter-widgets/controls",
            "_model_module_version": "1.5.0",
            "_view_count": null,
            "disabled": false,
            "_view_module_version": "1.5.0",
            "description_tooltip": null,
            "_model_module": "@jupyter-widgets/controls",
            "layout": "IPY_MODEL_76572e17f21545bd9209e767b338431e"
          }
        },
        "ad7aab6ac0fa42be9278344f41b3d4ae": {
          "model_module": "@jupyter-widgets/controls",
          "model_name": "DescriptionStyleModel",
          "state": {
            "_view_name": "StyleView",
            "_model_name": "DescriptionStyleModel",
            "description_width": "",
            "_view_module": "@jupyter-widgets/base",
            "_model_module_version": "1.5.0",
            "_view_count": null,
            "_view_module_version": "1.2.0",
            "_model_module": "@jupyter-widgets/controls"
          }
        },
        "76572e17f21545bd9209e767b338431e": {
          "model_module": "@jupyter-widgets/base",
          "model_name": "LayoutModel",
          "state": {
            "_view_name": "LayoutView",
            "grid_template_rows": null,
            "right": null,
            "justify_content": null,
            "_view_module": "@jupyter-widgets/base",
            "overflow": null,
            "_model_module_version": "1.2.0",
            "_view_count": null,
            "flex_flow": null,
            "width": null,
            "min_width": null,
            "border": null,
            "align_items": null,
            "bottom": null,
            "_model_module": "@jupyter-widgets/base",
            "top": null,
            "grid_column": null,
            "overflow_y": null,
            "overflow_x": null,
            "grid_auto_flow": null,
            "grid_area": null,
            "grid_template_columns": null,
            "flex": null,
            "_model_name": "LayoutModel",
            "justify_items": null,
            "grid_row": null,
            "max_height": null,
            "align_content": null,
            "visibility": null,
            "align_self": null,
            "height": null,
            "min_height": null,
            "padding": null,
            "grid_auto_rows": null,
            "grid_gap": null,
            "max_width": null,
            "order": null,
            "_view_module_version": "1.2.0",
            "grid_template_areas": null,
            "object_position": null,
            "object_fit": null,
            "grid_auto_columns": null,
            "margin": null,
            "display": null,
            "left": null
          }
        }
      }
    }
  },
  "cells": [
    {
      "cell_type": "markdown",
      "metadata": {
        "id": "LYRlD0YdnltU"
      },
      "source": [
        "# Відкриті дані по захворюваності на COVID-19 в Україні\n"
      ]
    },
    {
      "cell_type": "markdown",
      "metadata": {
        "id": "vpYHWKzzpWpW"
      },
      "source": [
        "## Фільтрація даних за допомогою віджета\n",
        "[Джерело даних](https://github.com/VasiaPiven/covid19_ua), [документація](https://towardsdatascience.com/bring-your-jupyter-notebook-to-life-with-interactive-widgets-bc12e03f0916)"
      ]
    },
    {
      "cell_type": "code",
      "metadata": {
        "id": "ALt1pzGthLV4"
      },
      "source": [
        "!pip install ipywidgets\n",
        "!jupyter nbextension enable --py widgetsnbextension"
      ],
      "execution_count": null,
      "outputs": []
    },
    {
      "cell_type": "code",
      "metadata": {
        "colab": {
          "base_uri": "https://localhost:8080/",
          "height": 457,
          "referenced_widgets": [
            "a3abd0094b2f418da2bc5253232381e1",
            "ad7aab6ac0fa42be9278344f41b3d4ae",
            "76572e17f21545bd9209e767b338431e"
          ]
        },
        "id": "VLsjmLHTgCm6",
        "outputId": "90ec54d7-e449-4537-fe6c-8b9ca0e3dd7a"
      },
      "source": [
        "# імпорт бібліотек\n",
        "import pandas as pd\n",
        "import numpy as np\n",
        "import ipywidgets as widgets\n",
        "\n",
        "# посилання на джерело даних\n",
        "url = \"https://raw.githubusercontent.com/VasiaPiven/covid19_ua/master/covid19_by_settlement_actual.csv\"\n",
        "\n",
        "# нам потрібні лише окремі поля\n",
        "fields = ['zvit_date', 'registration_area', 'registration_settlement', 'total_susp',\t'total_confirm',\t'total_death',\t'total_recover']\n",
        "\n",
        "# ми перейменуємо їх \n",
        "field_names = ['Дата', 'Область', 'Місце', 'Підозр', 'Підтверджено',\t'Померло',\t'Одужало']\n",
        "\n",
        "# читаємо дані\n",
        "cov_ukraine = pd.read_csv(url, skipinitialspace=True, usecols=fields, header=0)\n",
        "\n",
        "# додаємо наші нові назви полів\n",
        "cov_ukraine.columns = field_names\n",
        "\n",
        "# cov_ukraine\n",
        "\n",
        "# додаємо до спадного списку новий елемент\n",
        "ALL = 'оберіть область'\n",
        "def unique_sorted_values_plus_ALL(array):\n",
        "    unique = array.unique().tolist()\n",
        "    unique.sort()\n",
        "    unique.insert(0, ALL)\n",
        "    return unique\n",
        "\n",
        "# задаємо набір елементів спадного списку\n",
        "dropdown_area = widgets.Dropdown(options = unique_sorted_values_plus_ALL(cov_ukraine['Область']))\n",
        "\n",
        "# обробка події вибору елемента\n",
        "def dropdown_area_eventhandler(change):\n",
        "    if (change.new == ALL):\n",
        "        display(cov_ukraine)\n",
        "    else:\n",
        "        display(cov_ukraine[cov_ukraine['Область'] == change.new])\n",
        "        # хочемо вивести загальну кількість підтверджених випадків\n",
        "        all_confirmed = cov_ukraine['Підтверджено'].sum()\n",
        "        print(f\"Всього підтверджених випадків: {all_confirmed}\")\n",
        "\n",
        "# прикріпляємо обробник\n",
        "dropdown_area.observe(dropdown_area_eventhandler, names='value')\n",
        "\n",
        "# відображаємо список\n",
        "display(dropdown_area)\n"
      ],
      "execution_count": 43,
      "outputs": [
        {
          "output_type": "display_data",
          "data": {
            "application/vnd.jupyter.widget-view+json": {
              "model_id": "a3abd0094b2f418da2bc5253232381e1",
              "version_minor": 0,
              "version_major": 2
            },
            "text/plain": [
              "Dropdown(options=('оберіть область', 'Івано-Франківська', 'Волинська', 'Вінницька', 'Дніпропетровська', 'Донец…"
            ]
          },
          "metadata": {
            "tags": []
          }
        },
        {
          "output_type": "display_data",
          "data": {
            "text/html": [
              "<div>\n",
              "<style scoped>\n",
              "    .dataframe tbody tr th:only-of-type {\n",
              "        vertical-align: middle;\n",
              "    }\n",
              "\n",
              "    .dataframe tbody tr th {\n",
              "        vertical-align: top;\n",
              "    }\n",
              "\n",
              "    .dataframe thead th {\n",
              "        text-align: right;\n",
              "    }\n",
              "</style>\n",
              "<table border=\"1\" class=\"dataframe\">\n",
              "  <thead>\n",
              "    <tr style=\"text-align: right;\">\n",
              "      <th></th>\n",
              "      <th>Дата</th>\n",
              "      <th>Область</th>\n",
              "      <th>Місце</th>\n",
              "      <th>Підозр</th>\n",
              "      <th>Підтверджено</th>\n",
              "      <th>Померло</th>\n",
              "      <th>Одужало</th>\n",
              "    </tr>\n",
              "  </thead>\n",
              "  <tbody>\n",
              "    <tr>\n",
              "      <th>12079</th>\n",
              "      <td>2021-04-08</td>\n",
              "      <td>Полтавська</td>\n",
              "      <td>Багачка Перша</td>\n",
              "      <td>3</td>\n",
              "      <td>2</td>\n",
              "      <td>0</td>\n",
              "      <td>2</td>\n",
              "    </tr>\n",
              "    <tr>\n",
              "      <th>12080</th>\n",
              "      <td>2021-04-08</td>\n",
              "      <td>Полтавська</td>\n",
              "      <td>Байрак</td>\n",
              "      <td>5</td>\n",
              "      <td>5</td>\n",
              "      <td>0</td>\n",
              "      <td>3</td>\n",
              "    </tr>\n",
              "    <tr>\n",
              "      <th>12081</th>\n",
              "      <td>2021-04-08</td>\n",
              "      <td>Полтавська</td>\n",
              "      <td>Балаклія</td>\n",
              "      <td>14</td>\n",
              "      <td>13</td>\n",
              "      <td>1</td>\n",
              "      <td>10</td>\n",
              "    </tr>\n",
              "    <tr>\n",
              "      <th>12082</th>\n",
              "      <td>2021-04-08</td>\n",
              "      <td>Полтавська</td>\n",
              "      <td>Балюки</td>\n",
              "      <td>5</td>\n",
              "      <td>3</td>\n",
              "      <td>0</td>\n",
              "      <td>3</td>\n",
              "    </tr>\n",
              "    <tr>\n",
              "      <th>12083</th>\n",
              "      <td>2021-04-08</td>\n",
              "      <td>Полтавська</td>\n",
              "      <td>Бехтерщина</td>\n",
              "      <td>5</td>\n",
              "      <td>5</td>\n",
              "      <td>0</td>\n",
              "      <td>4</td>\n",
              "    </tr>\n",
              "    <tr>\n",
              "      <th>...</th>\n",
              "      <td>...</td>\n",
              "      <td>...</td>\n",
              "      <td>...</td>\n",
              "      <td>...</td>\n",
              "      <td>...</td>\n",
              "      <td>...</td>\n",
              "      <td>...</td>\n",
              "    </tr>\n",
              "    <tr>\n",
              "      <th>13361</th>\n",
              "      <td>2020-11-30</td>\n",
              "      <td>Полтавська</td>\n",
              "      <td>Чорнобаї</td>\n",
              "      <td>1</td>\n",
              "      <td>1</td>\n",
              "      <td>1</td>\n",
              "      <td>0</td>\n",
              "    </tr>\n",
              "    <tr>\n",
              "      <th>13362</th>\n",
              "      <td>2021-01-21</td>\n",
              "      <td>Полтавська</td>\n",
              "      <td>Шарлаївка</td>\n",
              "      <td>2</td>\n",
              "      <td>1</td>\n",
              "      <td>0</td>\n",
              "      <td>1</td>\n",
              "    </tr>\n",
              "    <tr>\n",
              "      <th>13363</th>\n",
              "      <td>2021-01-22</td>\n",
              "      <td>Полтавська</td>\n",
              "      <td>Шафранівка</td>\n",
              "      <td>2</td>\n",
              "      <td>2</td>\n",
              "      <td>0</td>\n",
              "      <td>2</td>\n",
              "    </tr>\n",
              "    <tr>\n",
              "      <th>13364</th>\n",
              "      <td>2021-04-08</td>\n",
              "      <td>Полтавська</td>\n",
              "      <td>Шишаки</td>\n",
              "      <td>328</td>\n",
              "      <td>310</td>\n",
              "      <td>3</td>\n",
              "      <td>275</td>\n",
              "    </tr>\n",
              "    <tr>\n",
              "      <th>13365</th>\n",
              "      <td>2021-04-08</td>\n",
              "      <td>Полтавська</td>\n",
              "      <td>Яреськи</td>\n",
              "      <td>156</td>\n",
              "      <td>150</td>\n",
              "      <td>4</td>\n",
              "      <td>124</td>\n",
              "    </tr>\n",
              "  </tbody>\n",
              "</table>\n",
              "<p>1287 rows × 7 columns</p>\n",
              "</div>"
            ],
            "text/plain": [
              "             Дата     Область          Місце  ...  Підтверджено  Померло  Одужало\n",
              "12079  2021-04-08  Полтавська  Багачка Перша  ...             2        0        2\n",
              "12080  2021-04-08  Полтавська         Байрак  ...             5        0        3\n",
              "12081  2021-04-08  Полтавська       Балаклія  ...            13        1       10\n",
              "12082  2021-04-08  Полтавська         Балюки  ...             3        0        3\n",
              "12083  2021-04-08  Полтавська     Бехтерщина  ...             5        0        4\n",
              "...           ...         ...            ...  ...           ...      ...      ...\n",
              "13361  2020-11-30  Полтавська       Чорнобаї  ...             1        1        0\n",
              "13362  2021-01-21  Полтавська      Шарлаївка  ...             1        0        1\n",
              "13363  2021-01-22  Полтавська     Шафранівка  ...             2        0        2\n",
              "13364  2021-04-08  Полтавська         Шишаки  ...           310        3      275\n",
              "13365  2021-04-08  Полтавська        Яреськи  ...           150        4      124\n",
              "\n",
              "[1287 rows x 7 columns]"
            ]
          },
          "metadata": {
            "tags": []
          }
        },
        {
          "output_type": "stream",
          "text": [
            "Всього підтверджених випадків: 1823674\n"
          ],
          "name": "stdout"
        }
      ]
    },
    {
      "cell_type": "markdown",
      "metadata": {
        "id": "7WUX3szGo9rT"
      },
      "source": [
        "## Офіційна статистика від Національної служби здоров'я України\n",
        "\n",
        "Демонстрація відображення iframe всередині блокнота"
      ]
    },
    {
      "cell_type": "code",
      "metadata": {
        "id": "ckCaXXg5piuG"
      },
      "source": [
        "# встановлюємо потрібний пакет\n",
        "!pip install IPython"
      ],
      "execution_count": null,
      "outputs": []
    },
    {
      "cell_type": "code",
      "metadata": {
        "colab": {
          "base_uri": "https://localhost:8080/",
          "height": 781
        },
        "id": "qugRTtoboEDK",
        "outputId": "ba7bf921-c8b8-48cf-bfa6-fd5bc9cba8b6"
      },
      "source": [
        "# імпорт бібліотек\n",
        "from IPython.display import IFrame\n",
        "\n",
        "# відображаємо веб-контент в iframe\n",
        "IFrame('https://app.powerbi.com/view?r=eyJrIjoiN2M1MTY1MDktZTY5Mi00OTE0LWFiMDAtMjM4NTY0YWU2MmI3IiwidCI6IjI4OGJmYmNmLTVhYjItNDk2MS04YTM5LTg2MDYxYWFhY2Q4NiIsImMiOjl9&amp;fbclid=IwAR3vOXvEK0l3SaGSAxZGgNyc4cNSi17wegJwcFX4oPefbVgUR16RsWDxGjg', width=1000, height=760)"
      ],
      "execution_count": 44,
      "outputs": [
        {
          "output_type": "execute_result",
          "data": {
            "text/html": [
              "\n",
              "        <iframe\n",
              "            width=\"1000\"\n",
              "            height=\"760\"\n",
              "            src=\"https://app.powerbi.com/view?r=eyJrIjoiN2M1MTY1MDktZTY5Mi00OTE0LWFiMDAtMjM4NTY0YWU2MmI3IiwidCI6IjI4OGJmYmNmLTVhYjItNDk2MS04YTM5LTg2MDYxYWFhY2Q4NiIsImMiOjl9&amp;fbclid=IwAR3vOXvEK0l3SaGSAxZGgNyc4cNSi17wegJwcFX4oPefbVgUR16RsWDxGjg\"\n",
              "            frameborder=\"0\"\n",
              "            allowfullscreen\n",
              "        ></iframe>\n",
              "        "
            ],
            "text/plain": [
              "<IPython.lib.display.IFrame at 0x7fba4fc39550>"
            ]
          },
          "metadata": {
            "tags": []
          },
          "execution_count": 44
        }
      ]
    }
  ]
}