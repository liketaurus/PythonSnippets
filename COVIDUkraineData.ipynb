{
  "nbformat": 4,
  "nbformat_minor": 0,
  "metadata": {
    "colab": {
      "name": "COVIDUkraineData",
      "provenance": [],
      "collapsed_sections": []
    },
    "kernelspec": {
      "name": "python3",
      "display_name": "Python 3"
    },
    "language_info": {
      "name": "python"
    },
    "widgets": {
      "application/vnd.jupyter.widget-state+json": {
        "c2d852800d0440b18b8bf92b23bd0621": {
          "model_module": "@jupyter-widgets/controls",
          "model_name": "DropdownModel",
          "state": {
            "_options_labels": [
              "оберіть область",
              "Івано-Франківська",
              "Волинська",
              "Вінницька",
              "Дніпропетровська",
              "Донецька",
              "Житомирська",
              "Закарпатська",
              "Запорізька",
              "Київська",
              "Кіровоградська",
              "Луганська",
              "Львівська",
              "Миколаївська",
              "Одеська",
              "Полтавська",
              "Рівненська",
              "Сумська",
              "Тернопільська",
              "Харківська",
              "Херсонська",
              "Хмельницька",
              "Черкаська",
              "Чернівецька",
              "Чернігівська",
              "м. Київ"
            ],
            "_view_name": "DropdownView",
            "style": "IPY_MODEL_050dbca49f004e7cbaec6b594546cb82",
            "_dom_classes": [],
            "description": "",
            "_model_name": "DropdownModel",
            "index": 15,
            "_view_module": "@jupyter-widgets/controls",
            "_model_module_version": "1.5.0",
            "_view_count": null,
            "disabled": false,
            "_view_module_version": "1.5.0",
            "description_tooltip": null,
            "_model_module": "@jupyter-widgets/controls",
            "layout": "IPY_MODEL_d46f6f8a50ef4edb9626a3e09102fd9a"
          }
        },
        "050dbca49f004e7cbaec6b594546cb82": {
          "model_module": "@jupyter-widgets/controls",
          "model_name": "DescriptionStyleModel",
          "state": {
            "_view_name": "StyleView",
            "_model_name": "DescriptionStyleModel",
            "description_width": "",
            "_view_module": "@jupyter-widgets/base",
            "_model_module_version": "1.5.0",
            "_view_count": null,
            "_view_module_version": "1.2.0",
            "_model_module": "@jupyter-widgets/controls"
          }
        },
        "d46f6f8a50ef4edb9626a3e09102fd9a": {
          "model_module": "@jupyter-widgets/base",
          "model_name": "LayoutModel",
          "state": {
            "_view_name": "LayoutView",
            "grid_template_rows": null,
            "right": null,
            "justify_content": null,
            "_view_module": "@jupyter-widgets/base",
            "overflow": null,
            "_model_module_version": "1.2.0",
            "_view_count": null,
            "flex_flow": null,
            "width": null,
            "min_width": null,
            "border": null,
            "align_items": null,
            "bottom": null,
            "_model_module": "@jupyter-widgets/base",
            "top": null,
            "grid_column": null,
            "overflow_y": null,
            "overflow_x": null,
            "grid_auto_flow": null,
            "grid_area": null,
            "grid_template_columns": null,
            "flex": null,
            "_model_name": "LayoutModel",
            "justify_items": null,
            "grid_row": null,
            "max_height": null,
            "align_content": null,
            "visibility": null,
            "align_self": null,
            "height": null,
            "min_height": null,
            "padding": null,
            "grid_auto_rows": null,
            "grid_gap": null,
            "max_width": null,
            "order": null,
            "_view_module_version": "1.2.0",
            "grid_template_areas": null,
            "object_position": null,
            "object_fit": null,
            "grid_auto_columns": null,
            "margin": null,
            "display": null,
            "left": null
          }
        },
        "af09d3d44831401b8e2636925aa6de56": {
          "model_module": "@jupyter-widgets/controls",
          "model_name": "VBoxModel",
          "state": {
            "_view_name": "VBoxView",
            "_dom_classes": [
              "widget-interact"
            ],
            "_model_name": "VBoxModel",
            "_view_module": "@jupyter-widgets/controls",
            "_model_module_version": "1.5.0",
            "_view_count": null,
            "_view_module_version": "1.5.0",
            "box_style": "",
            "layout": "IPY_MODEL_2089f220659e4e1a97da7543702eb0c6",
            "_model_module": "@jupyter-widgets/controls",
            "children": [
              "IPY_MODEL_b8da3f298e1940ecaaef6f9fe31ea5d7",
              "IPY_MODEL_07df5ed7a26f4f72acd59c44f48e0933",
              "IPY_MODEL_51a44331e08641cead9713087232c161"
            ]
          }
        },
        "2089f220659e4e1a97da7543702eb0c6": {
          "model_module": "@jupyter-widgets/base",
          "model_name": "LayoutModel",
          "state": {
            "_view_name": "LayoutView",
            "grid_template_rows": null,
            "right": null,
            "justify_content": null,
            "_view_module": "@jupyter-widgets/base",
            "overflow": null,
            "_model_module_version": "1.2.0",
            "_view_count": null,
            "flex_flow": null,
            "width": null,
            "min_width": null,
            "border": null,
            "align_items": null,
            "bottom": null,
            "_model_module": "@jupyter-widgets/base",
            "top": null,
            "grid_column": null,
            "overflow_y": null,
            "overflow_x": null,
            "grid_auto_flow": null,
            "grid_area": null,
            "grid_template_columns": null,
            "flex": null,
            "_model_name": "LayoutModel",
            "justify_items": null,
            "grid_row": null,
            "max_height": null,
            "align_content": null,
            "visibility": null,
            "align_self": null,
            "height": null,
            "min_height": null,
            "padding": null,
            "grid_auto_rows": null,
            "grid_gap": null,
            "max_width": null,
            "order": null,
            "_view_module_version": "1.2.0",
            "grid_template_areas": null,
            "object_position": null,
            "object_fit": null,
            "grid_auto_columns": null,
            "margin": null,
            "display": null,
            "left": null
          }
        },
        "b8da3f298e1940ecaaef6f9fe31ea5d7": {
          "model_module": "@jupyter-widgets/controls",
          "model_name": "TextModel",
          "state": {
            "_view_name": "TextView",
            "style": "IPY_MODEL_c3e3529d3147420ea6c98ebed861df45",
            "_dom_classes": [],
            "description": "column",
            "_model_name": "TextModel",
            "placeholder": "​",
            "_view_module": "@jupyter-widgets/controls",
            "_model_module_version": "1.5.0",
            "value": "Область",
            "_view_count": null,
            "disabled": false,
            "_view_module_version": "1.5.0",
            "continuous_update": true,
            "description_tooltip": null,
            "_model_module": "@jupyter-widgets/controls",
            "layout": "IPY_MODEL_03b2159978ba463ca50c790f2aaff69f"
          }
        },
        "07df5ed7a26f4f72acd59c44f48e0933": {
          "model_module": "@jupyter-widgets/controls",
          "model_name": "DropdownModel",
          "state": {
            "_options_labels": [
              "оберіть область",
              "Івано-Франківська",
              "Волинська",
              "Вінницька",
              "Дніпропетровська",
              "Донецька",
              "Житомирська",
              "Закарпатська",
              "Запорізька",
              "Київська",
              "Кіровоградська",
              "Луганська",
              "Львівська",
              "Миколаївська",
              "Одеська",
              "Полтавська",
              "Рівненська",
              "Сумська",
              "Тернопільська",
              "Харківська",
              "Херсонська",
              "Хмельницька",
              "Черкаська",
              "Чернівецька",
              "Чернігівська",
              "м. Київ"
            ],
            "_view_name": "DropdownView",
            "style": "IPY_MODEL_f4daea4a76f34ed18ba7ab6d5e53a171",
            "_dom_classes": [],
            "description": "x",
            "_model_name": "DropdownModel",
            "index": 15,
            "_view_module": "@jupyter-widgets/controls",
            "_model_module_version": "1.5.0",
            "_view_count": null,
            "disabled": false,
            "_view_module_version": "1.5.0",
            "description_tooltip": null,
            "_model_module": "@jupyter-widgets/controls",
            "layout": "IPY_MODEL_f9205ae32a164a5984213ef8f94c30d7"
          }
        },
        "51a44331e08641cead9713087232c161": {
          "model_module": "@jupyter-widgets/output",
          "model_name": "OutputModel",
          "state": {
            "_view_name": "OutputView",
            "msg_id": "",
            "_dom_classes": [],
            "_model_name": "OutputModel",
            "outputs": [
              {
                "output_type": "display_data",
                "metadata": {
                  "tags": []
                },
                "text/html": "<div>\n<style scoped>\n    .dataframe tbody tr th:only-of-type {\n        vertical-align: middle;\n    }\n\n    .dataframe tbody tr th {\n        vertical-align: top;\n    }\n\n    .dataframe thead th {\n        text-align: right;\n    }\n</style>\n<table border=\"1\" class=\"dataframe\">\n  <thead>\n    <tr style=\"text-align: right;\">\n      <th></th>\n      <th>Дата</th>\n      <th>Область</th>\n      <th>Місце</th>\n      <th>Підозр</th>\n      <th>Підтверджено</th>\n      <th>Померло</th>\n      <th>Одужало</th>\n    </tr>\n  </thead>\n  <tbody>\n    <tr>\n      <th>12079</th>\n      <td>2021-04-08</td>\n      <td>Полтавська</td>\n      <td>Багачка Перша</td>\n      <td>3</td>\n      <td>2</td>\n      <td>0</td>\n      <td>2</td>\n    </tr>\n    <tr>\n      <th>12080</th>\n      <td>2021-04-08</td>\n      <td>Полтавська</td>\n      <td>Байрак</td>\n      <td>5</td>\n      <td>5</td>\n      <td>0</td>\n      <td>3</td>\n    </tr>\n    <tr>\n      <th>12081</th>\n      <td>2021-04-08</td>\n      <td>Полтавська</td>\n      <td>Балаклія</td>\n      <td>14</td>\n      <td>13</td>\n      <td>1</td>\n      <td>10</td>\n    </tr>\n    <tr>\n      <th>12082</th>\n      <td>2021-04-08</td>\n      <td>Полтавська</td>\n      <td>Балюки</td>\n      <td>5</td>\n      <td>3</td>\n      <td>0</td>\n      <td>3</td>\n    </tr>\n    <tr>\n      <th>12083</th>\n      <td>2021-04-08</td>\n      <td>Полтавська</td>\n      <td>Бехтерщина</td>\n      <td>5</td>\n      <td>5</td>\n      <td>0</td>\n      <td>4</td>\n    </tr>\n    <tr>\n      <th>...</th>\n      <td>...</td>\n      <td>...</td>\n      <td>...</td>\n      <td>...</td>\n      <td>...</td>\n      <td>...</td>\n      <td>...</td>\n    </tr>\n    <tr>\n      <th>13361</th>\n      <td>2020-11-30</td>\n      <td>Полтавська</td>\n      <td>Чорнобаї</td>\n      <td>1</td>\n      <td>1</td>\n      <td>1</td>\n      <td>0</td>\n    </tr>\n    <tr>\n      <th>13362</th>\n      <td>2021-01-21</td>\n      <td>Полтавська</td>\n      <td>Шарлаївка</td>\n      <td>2</td>\n      <td>1</td>\n      <td>0</td>\n      <td>1</td>\n    </tr>\n    <tr>\n      <th>13363</th>\n      <td>2021-01-22</td>\n      <td>Полтавська</td>\n      <td>Шафранівка</td>\n      <td>2</td>\n      <td>2</td>\n      <td>0</td>\n      <td>2</td>\n    </tr>\n    <tr>\n      <th>13364</th>\n      <td>2021-04-08</td>\n      <td>Полтавська</td>\n      <td>Шишаки</td>\n      <td>328</td>\n      <td>310</td>\n      <td>3</td>\n      <td>275</td>\n    </tr>\n    <tr>\n      <th>13365</th>\n      <td>2021-04-08</td>\n      <td>Полтавська</td>\n      <td>Яреськи</td>\n      <td>156</td>\n      <td>150</td>\n      <td>4</td>\n      <td>124</td>\n    </tr>\n  </tbody>\n</table>\n<p>1287 rows × 7 columns</p>\n</div>",
                "text/plain": "            Дата     Область          Місце  ...  Підтверджено  Померло  Одужало\n12079 2021-04-08  Полтавська  Багачка Перша  ...             2        0        2\n12080 2021-04-08  Полтавська         Байрак  ...             5        0        3\n12081 2021-04-08  Полтавська       Балаклія  ...            13        1       10\n12082 2021-04-08  Полтавська         Балюки  ...             3        0        3\n12083 2021-04-08  Полтавська     Бехтерщина  ...             5        0        4\n...          ...         ...            ...  ...           ...      ...      ...\n13361 2020-11-30  Полтавська       Чорнобаї  ...             1        1        0\n13362 2021-01-21  Полтавська      Шарлаївка  ...             1        0        1\n13363 2021-01-22  Полтавська     Шафранівка  ...             2        0        2\n13364 2021-04-08  Полтавська         Шишаки  ...           310        3      275\n13365 2021-04-08  Полтавська        Яреськи  ...           150        4      124\n\n[1287 rows x 7 columns]"
              }
            ],
            "_view_module": "@jupyter-widgets/output",
            "_model_module_version": "1.0.0",
            "_view_count": null,
            "_view_module_version": "1.0.0",
            "layout": "IPY_MODEL_88b60e727e004cff8655c6a44f702024",
            "_model_module": "@jupyter-widgets/output"
          }
        },
        "c3e3529d3147420ea6c98ebed861df45": {
          "model_module": "@jupyter-widgets/controls",
          "model_name": "DescriptionStyleModel",
          "state": {
            "_view_name": "StyleView",
            "_model_name": "DescriptionStyleModel",
            "description_width": "",
            "_view_module": "@jupyter-widgets/base",
            "_model_module_version": "1.5.0",
            "_view_count": null,
            "_view_module_version": "1.2.0",
            "_model_module": "@jupyter-widgets/controls"
          }
        },
        "03b2159978ba463ca50c790f2aaff69f": {
          "model_module": "@jupyter-widgets/base",
          "model_name": "LayoutModel",
          "state": {
            "_view_name": "LayoutView",
            "grid_template_rows": null,
            "right": null,
            "justify_content": null,
            "_view_module": "@jupyter-widgets/base",
            "overflow": null,
            "_model_module_version": "1.2.0",
            "_view_count": null,
            "flex_flow": null,
            "width": null,
            "min_width": null,
            "border": null,
            "align_items": null,
            "bottom": null,
            "_model_module": "@jupyter-widgets/base",
            "top": null,
            "grid_column": null,
            "overflow_y": null,
            "overflow_x": null,
            "grid_auto_flow": null,
            "grid_area": null,
            "grid_template_columns": null,
            "flex": null,
            "_model_name": "LayoutModel",
            "justify_items": null,
            "grid_row": null,
            "max_height": null,
            "align_content": null,
            "visibility": null,
            "align_self": null,
            "height": null,
            "min_height": null,
            "padding": null,
            "grid_auto_rows": null,
            "grid_gap": null,
            "max_width": null,
            "order": null,
            "_view_module_version": "1.2.0",
            "grid_template_areas": null,
            "object_position": null,
            "object_fit": null,
            "grid_auto_columns": null,
            "margin": null,
            "display": null,
            "left": null
          }
        },
        "f4daea4a76f34ed18ba7ab6d5e53a171": {
          "model_module": "@jupyter-widgets/controls",
          "model_name": "DescriptionStyleModel",
          "state": {
            "_view_name": "StyleView",
            "_model_name": "DescriptionStyleModel",
            "description_width": "",
            "_view_module": "@jupyter-widgets/base",
            "_model_module_version": "1.5.0",
            "_view_count": null,
            "_view_module_version": "1.2.0",
            "_model_module": "@jupyter-widgets/controls"
          }
        },
        "f9205ae32a164a5984213ef8f94c30d7": {
          "model_module": "@jupyter-widgets/base",
          "model_name": "LayoutModel",
          "state": {
            "_view_name": "LayoutView",
            "grid_template_rows": null,
            "right": null,
            "justify_content": null,
            "_view_module": "@jupyter-widgets/base",
            "overflow": null,
            "_model_module_version": "1.2.0",
            "_view_count": null,
            "flex_flow": null,
            "width": null,
            "min_width": null,
            "border": null,
            "align_items": null,
            "bottom": null,
            "_model_module": "@jupyter-widgets/base",
            "top": null,
            "grid_column": null,
            "overflow_y": null,
            "overflow_x": null,
            "grid_auto_flow": null,
            "grid_area": null,
            "grid_template_columns": null,
            "flex": null,
            "_model_name": "LayoutModel",
            "justify_items": null,
            "grid_row": null,
            "max_height": null,
            "align_content": null,
            "visibility": null,
            "align_self": null,
            "height": null,
            "min_height": null,
            "padding": null,
            "grid_auto_rows": null,
            "grid_gap": null,
            "max_width": null,
            "order": null,
            "_view_module_version": "1.2.0",
            "grid_template_areas": null,
            "object_position": null,
            "object_fit": null,
            "grid_auto_columns": null,
            "margin": null,
            "display": null,
            "left": null
          }
        },
        "88b60e727e004cff8655c6a44f702024": {
          "model_module": "@jupyter-widgets/base",
          "model_name": "LayoutModel",
          "state": {
            "_view_name": "LayoutView",
            "grid_template_rows": null,
            "right": null,
            "justify_content": null,
            "_view_module": "@jupyter-widgets/base",
            "overflow": null,
            "_model_module_version": "1.2.0",
            "_view_count": null,
            "flex_flow": null,
            "width": null,
            "min_width": null,
            "border": null,
            "align_items": null,
            "bottom": null,
            "_model_module": "@jupyter-widgets/base",
            "top": null,
            "grid_column": null,
            "overflow_y": null,
            "overflow_x": null,
            "grid_auto_flow": null,
            "grid_area": null,
            "grid_template_columns": null,
            "flex": null,
            "_model_name": "LayoutModel",
            "justify_items": null,
            "grid_row": null,
            "max_height": null,
            "align_content": null,
            "visibility": null,
            "align_self": null,
            "height": null,
            "min_height": null,
            "padding": null,
            "grid_auto_rows": null,
            "grid_gap": null,
            "max_width": null,
            "order": null,
            "_view_module_version": "1.2.0",
            "grid_template_areas": null,
            "object_position": null,
            "object_fit": null,
            "grid_auto_columns": null,
            "margin": null,
            "display": null,
            "left": null
          }
        }
      }
    }
  },
  "cells": [
    {
      "cell_type": "markdown",
      "metadata": {
        "id": "LYRlD0YdnltU"
      },
      "source": [
        "# Відкриті дані по захворюваності на COVID-19 в Україні\n"
      ]
    },
    {
      "cell_type": "markdown",
      "metadata": {
        "id": "vpYHWKzzpWpW"
      },
      "source": [
        "## Фільтрація даних за допомогою віджета\n",
        "[Джерело даних](https://github.com/VasiaPiven/covid19_ua), [документація](https://towardsdatascience.com/bring-your-jupyter-notebook-to-life-with-interactive-widgets-bc12e03f0916)"
      ]
    },
    {
      "cell_type": "code",
      "metadata": {
        "id": "ALt1pzGthLV4"
      },
      "source": [
        "!pip install ipywidgets\n",
        "!jupyter nbextension enable --py widgetsnbextension"
      ],
      "execution_count": null,
      "outputs": []
    },
    {
      "cell_type": "code",
      "metadata": {
        "colab": {
          "base_uri": "https://localhost:8080/",
          "height": 780,
          "referenced_widgets": [
            "c2d852800d0440b18b8bf92b23bd0621",
            "050dbca49f004e7cbaec6b594546cb82",
            "d46f6f8a50ef4edb9626a3e09102fd9a"
          ]
        },
        "id": "VLsjmLHTgCm6",
        "outputId": "cbe50dd9-3c53-422e-bccd-1a0c7a5d22f2"
      },
      "source": [
        "# імпорт бібліотек\n",
        "import pandas as pd\n",
        "import numpy as np\n",
        "import ipywidgets as widgets\n",
        "import matplotlib.pyplot as plt\n",
        "\n",
        "# посилання на джерело даних\n",
        "url = \"https://raw.githubusercontent.com/VasiaPiven/covid19_ua/master/covid19_by_settlement_actual.csv\"\n",
        "\n",
        "# нам потрібні лише окремі поля\n",
        "fields = ['zvit_date', 'registration_area', 'registration_settlement', 'total_susp',\t'total_confirm',\t'total_death',\t'total_recover']\n",
        "\n",
        "# ми перейменуємо їх \n",
        "field_names = ['Дата', 'Область', 'Місце', 'Підозр', 'Підтверджено',\t'Померло',\t'Одужало']\n",
        "\n",
        "# читаємо дані\n",
        "cov_ukraine = pd.read_csv(url, skipinitialspace=True, usecols=fields, header=0)\n",
        "\n",
        "# додаємо наші нові назви полів\n",
        "cov_ukraine.columns = field_names\n",
        "\n",
        "# cov_ukraine.set_index(keys='Дата', inplace=True)\n",
        "\n",
        "cov_ukraine['Дата'] =  pd.to_datetime(cov_ukraine['Дата'])\n",
        "\n",
        "# cov_ukraine\n",
        "\n",
        "# додаємо до спадного списку новий елемент\n",
        "ALL = 'оберіть область'\n",
        "def unique_sorted_values_plus_ALL(array):\n",
        "    unique = array.unique().tolist()\n",
        "    unique.sort()\n",
        "    unique.insert(0, ALL)\n",
        "    return unique\n",
        "\n",
        "# задаємо набір елементів спадного списку\n",
        "dropdown_area = widgets.Dropdown(options = unique_sorted_values_plus_ALL(cov_ukraine['Область']))\n",
        "\n",
        "# обробка події вибору елемента\n",
        "def dropdown_area_eventhandler(change):\n",
        "    if (change.new == ALL):\n",
        "        display(cov_ukraine)\n",
        "    else:\n",
        "        display(cov_ukraine[cov_ukraine['Область'] == change.new])\n",
        "        # виводимо загальну кількість підтверджених випадків, померлих та тих хто одужав\n",
        "        all_confirmed = cov_ukraine.loc[cov_ukraine['Область'] == change.new, 'Підтверджено'].sum()\n",
        "        all_dead = cov_ukraine.loc[cov_ukraine['Область'] == change.new, 'Померло'].sum()\n",
        "        all_ok = cov_ukraine.loc[cov_ukraine['Область'] == change.new, 'Одужало'].sum()\n",
        "        print(f\"Всього підтверджено: \\t{all_confirmed}\\nВсього померло : \\t{all_dead}\\nВсього одужало: \\t{all_ok}\")\n",
        "        \n",
        "        # виводимо графік\n",
        "        cov_ukraine.loc[cov_ukraine['Область'] == change.new].plot(x='Дата', y='Підтверджено', kind='scatter')\n",
        "        plt.title(\"Динаміка захворюваності\")\n",
        "        plt.show()\n",
        "\n",
        "# прикріпляємо обробник\n",
        "dropdown_area.observe(dropdown_area_eventhandler, names='value')\n",
        "\n",
        "# відображаємо список\n",
        "display(dropdown_area)"
      ],
      "execution_count": 2,
      "outputs": [
        {
          "output_type": "display_data",
          "data": {
            "application/vnd.jupyter.widget-view+json": {
              "model_id": "c2d852800d0440b18b8bf92b23bd0621",
              "version_minor": 0,
              "version_major": 2
            },
            "text/plain": [
              "Dropdown(options=('оберіть область', 'Івано-Франківська', 'Волинська', 'Вінницька', 'Дніпропетровська', 'Донец…"
            ]
          },
          "metadata": {
            "tags": []
          }
        },
        {
          "output_type": "display_data",
          "data": {
            "text/html": [
              "<div>\n",
              "<style scoped>\n",
              "    .dataframe tbody tr th:only-of-type {\n",
              "        vertical-align: middle;\n",
              "    }\n",
              "\n",
              "    .dataframe tbody tr th {\n",
              "        vertical-align: top;\n",
              "    }\n",
              "\n",
              "    .dataframe thead th {\n",
              "        text-align: right;\n",
              "    }\n",
              "</style>\n",
              "<table border=\"1\" class=\"dataframe\">\n",
              "  <thead>\n",
              "    <tr style=\"text-align: right;\">\n",
              "      <th></th>\n",
              "      <th>Дата</th>\n",
              "      <th>Область</th>\n",
              "      <th>Місце</th>\n",
              "      <th>Підозр</th>\n",
              "      <th>Підтверджено</th>\n",
              "      <th>Померло</th>\n",
              "      <th>Одужало</th>\n",
              "    </tr>\n",
              "  </thead>\n",
              "  <tbody>\n",
              "    <tr>\n",
              "      <th>12079</th>\n",
              "      <td>2021-04-08</td>\n",
              "      <td>Полтавська</td>\n",
              "      <td>Багачка Перша</td>\n",
              "      <td>3</td>\n",
              "      <td>2</td>\n",
              "      <td>0</td>\n",
              "      <td>2</td>\n",
              "    </tr>\n",
              "    <tr>\n",
              "      <th>12080</th>\n",
              "      <td>2021-04-08</td>\n",
              "      <td>Полтавська</td>\n",
              "      <td>Байрак</td>\n",
              "      <td>5</td>\n",
              "      <td>5</td>\n",
              "      <td>0</td>\n",
              "      <td>3</td>\n",
              "    </tr>\n",
              "    <tr>\n",
              "      <th>12081</th>\n",
              "      <td>2021-04-08</td>\n",
              "      <td>Полтавська</td>\n",
              "      <td>Балаклія</td>\n",
              "      <td>14</td>\n",
              "      <td>13</td>\n",
              "      <td>1</td>\n",
              "      <td>10</td>\n",
              "    </tr>\n",
              "    <tr>\n",
              "      <th>12082</th>\n",
              "      <td>2021-04-08</td>\n",
              "      <td>Полтавська</td>\n",
              "      <td>Балюки</td>\n",
              "      <td>5</td>\n",
              "      <td>3</td>\n",
              "      <td>0</td>\n",
              "      <td>3</td>\n",
              "    </tr>\n",
              "    <tr>\n",
              "      <th>12083</th>\n",
              "      <td>2021-04-08</td>\n",
              "      <td>Полтавська</td>\n",
              "      <td>Бехтерщина</td>\n",
              "      <td>5</td>\n",
              "      <td>5</td>\n",
              "      <td>0</td>\n",
              "      <td>4</td>\n",
              "    </tr>\n",
              "    <tr>\n",
              "      <th>...</th>\n",
              "      <td>...</td>\n",
              "      <td>...</td>\n",
              "      <td>...</td>\n",
              "      <td>...</td>\n",
              "      <td>...</td>\n",
              "      <td>...</td>\n",
              "      <td>...</td>\n",
              "    </tr>\n",
              "    <tr>\n",
              "      <th>13361</th>\n",
              "      <td>2020-11-30</td>\n",
              "      <td>Полтавська</td>\n",
              "      <td>Чорнобаї</td>\n",
              "      <td>1</td>\n",
              "      <td>1</td>\n",
              "      <td>1</td>\n",
              "      <td>0</td>\n",
              "    </tr>\n",
              "    <tr>\n",
              "      <th>13362</th>\n",
              "      <td>2021-01-21</td>\n",
              "      <td>Полтавська</td>\n",
              "      <td>Шарлаївка</td>\n",
              "      <td>2</td>\n",
              "      <td>1</td>\n",
              "      <td>0</td>\n",
              "      <td>1</td>\n",
              "    </tr>\n",
              "    <tr>\n",
              "      <th>13363</th>\n",
              "      <td>2021-01-22</td>\n",
              "      <td>Полтавська</td>\n",
              "      <td>Шафранівка</td>\n",
              "      <td>2</td>\n",
              "      <td>2</td>\n",
              "      <td>0</td>\n",
              "      <td>2</td>\n",
              "    </tr>\n",
              "    <tr>\n",
              "      <th>13364</th>\n",
              "      <td>2021-04-08</td>\n",
              "      <td>Полтавська</td>\n",
              "      <td>Шишаки</td>\n",
              "      <td>328</td>\n",
              "      <td>310</td>\n",
              "      <td>3</td>\n",
              "      <td>275</td>\n",
              "    </tr>\n",
              "    <tr>\n",
              "      <th>13365</th>\n",
              "      <td>2021-04-08</td>\n",
              "      <td>Полтавська</td>\n",
              "      <td>Яреськи</td>\n",
              "      <td>156</td>\n",
              "      <td>150</td>\n",
              "      <td>4</td>\n",
              "      <td>124</td>\n",
              "    </tr>\n",
              "  </tbody>\n",
              "</table>\n",
              "<p>1287 rows × 7 columns</p>\n",
              "</div>"
            ],
            "text/plain": [
              "            Дата     Область          Місце  ...  Підтверджено  Померло  Одужало\n",
              "12079 2021-04-08  Полтавська  Багачка Перша  ...             2        0        2\n",
              "12080 2021-04-08  Полтавська         Байрак  ...             5        0        3\n",
              "12081 2021-04-08  Полтавська       Балаклія  ...            13        1       10\n",
              "12082 2021-04-08  Полтавська         Балюки  ...             3        0        3\n",
              "12083 2021-04-08  Полтавська     Бехтерщина  ...             5        0        4\n",
              "...          ...         ...            ...  ...           ...      ...      ...\n",
              "13361 2020-11-30  Полтавська       Чорнобаї  ...             1        1        0\n",
              "13362 2021-01-21  Полтавська      Шарлаївка  ...             1        0        1\n",
              "13363 2021-01-22  Полтавська     Шафранівка  ...             2        0        2\n",
              "13364 2021-04-08  Полтавська         Шишаки  ...           310        3      275\n",
              "13365 2021-04-08  Полтавська        Яреськи  ...           150        4      124\n",
              "\n",
              "[1287 rows x 7 columns]"
            ]
          },
          "metadata": {
            "tags": []
          }
        },
        {
          "output_type": "stream",
          "text": [
            "Всього підтверджено: \t60521\n",
            "Всього померло : \t1276\n",
            "Всього одужало: \t49936\n"
          ],
          "name": "stdout"
        },
        {
          "output_type": "display_data",
          "data": {
            "image/png": "[encoded data removed]",
            "text/plain": [
              "<Figure size 432x288 with 1 Axes>"
            ]
          },
          "metadata": {
            "tags": [],
            "needs_background": "light"
          }
        }
      ]
    },
    {
      "cell_type": "markdown",
      "metadata": {
        "id": "RFrEQj4BHmf1"
      },
      "source": [
        "## Інтерактивне керування\n",
        "Детальніше читайте [тут](https://medium.com/nuances-of-programming/%D0%B8%D0%BD%D1%82%D0%B5%D1%80%D0%B0%D0%BA%D1%82%D0%B8%D0%B2%D0%BD%D0%BE%D0%B5-%D1%83%D0%BF%D1%80%D0%B0%D0%B2%D0%BB%D0%B5%D0%BD%D0%B8%D0%B5-%D0%B2-jupyter-notebooks-4fd1fccb5788)"
      ]
    },
    {
      "cell_type": "code",
      "metadata": {
        "colab": {
          "base_uri": "https://localhost:8080/"
        },
        "id": "jUJZynHE1n69",
        "outputId": "9544ce20-bfde-4477-afcb-fc85234dedd6"
      },
      "source": [
        "!jupyter nbextension enable --py widgetsnbextension"
      ],
      "execution_count": 26,
      "outputs": [
        {
          "output_type": "stream",
          "text": [
            "Enabling notebook extension jupyter-js-widgets/extension...\n",
            "      - Validating: \u001b[32mOK\u001b[0m\n"
          ],
          "name": "stdout"
        }
      ]
    },
    {
      "cell_type": "code",
      "metadata": {
        "colab": {
          "base_uri": "https://localhost:8080/",
          "height": 478,
          "referenced_widgets": [
            "af09d3d44831401b8e2636925aa6de56",
            "2089f220659e4e1a97da7543702eb0c6",
            "b8da3f298e1940ecaaef6f9fe31ea5d7",
            "07df5ed7a26f4f72acd59c44f48e0933",
            "51a44331e08641cead9713087232c161",
            "c3e3529d3147420ea6c98ebed861df45",
            "03b2159978ba463ca50c790f2aaff69f",
            "f4daea4a76f34ed18ba7ab6d5e53a171",
            "f9205ae32a164a5984213ef8f94c30d7",
            "88b60e727e004cff8655c6a44f702024"
          ]
        },
        "id": "EgM1h-Nh1Hel",
        "outputId": "7702bebd-bf97-4bc3-a6ce-4dfae1e11a22"
      },
      "source": [
        "# імпорт бібліотек\n",
        "import ipywidgets as widgets\n",
        "from ipywidgets import interact, interact_manual\n",
        "\n",
        "# функція для фільтрації, яку буде автоматично перетворена на віджет\n",
        "@interact\n",
        "def show_area(column='Область', x=unique_sorted_values_plus_ALL(cov_ukraine['Область'])):\n",
        "    return cov_ukraine.loc[cov_ukraine[column] == x]\n",
        "\n"
      ],
      "execution_count": 3,
      "outputs": [
        {
          "output_type": "display_data",
          "data": {
            "application/vnd.jupyter.widget-view+json": {
              "model_id": "af09d3d44831401b8e2636925aa6de56",
              "version_minor": 0,
              "version_major": 2
            },
            "text/plain": [
              "interactive(children=(Text(value='Область', description='column'), Dropdown(description='x', options=('оберіть…"
            ]
          },
          "metadata": {
            "tags": []
          }
        }
      ]
    },
    {
      "cell_type": "markdown",
      "metadata": {
        "id": "7WUX3szGo9rT"
      },
      "source": [
        "## Офіційна статистика від Національної служби здоров'я України\n",
        "\n",
        "Демонстрація відображення iframe всередині блокнота"
      ]
    },
    {
      "cell_type": "code",
      "metadata": {
        "id": "ckCaXXg5piuG"
      },
      "source": [
        "# встановлюємо потрібний пакет\n",
        "!pip install IPython"
      ],
      "execution_count": null,
      "outputs": []
    },
    {
      "cell_type": "code",
      "metadata": {
        "colab": {
          "base_uri": "https://localhost:8080/",
          "height": 781
        },
        "id": "qugRTtoboEDK",
        "outputId": "ba7bf921-c8b8-48cf-bfa6-fd5bc9cba8b6"
      },
      "source": [
        "# імпорт бібліотек\n",
        "from IPython.display import IFrame\n",
        "\n",
        "# відображаємо веб-контент в iframe\n",
        "IFrame('https://app.powerbi.com/view?r=eyJrIjoiN2M1MTY1MDktZTY5Mi00OTE0LWFiMDAtMjM4NTY0YWU2MmI3IiwidCI6IjI4OGJmYmNmLTVhYjItNDk2MS04YTM5LTg2MDYxYWFhY2Q4NiIsImMiOjl9&amp;fbclid=IwAR3vOXvEK0l3SaGSAxZGgNyc4cNSi17wegJwcFX4oPefbVgUR16RsWDxGjg', width=1000, height=760)"
      ],
      "execution_count": null,
      "outputs": [
        {
          "output_type": "execute_result",
          "data": {
            "text/html": [
              "\n",
              "        <iframe\n",
              "            width=\"1000\"\n",
              "            height=\"760\"\n",
              "            src=\"https://app.powerbi.com/view?r=eyJrIjoiN2M1MTY1MDktZTY5Mi00OTE0LWFiMDAtMjM4NTY0YWU2MmI3IiwidCI6IjI4OGJmYmNmLTVhYjItNDk2MS04YTM5LTg2MDYxYWFhY2Q4NiIsImMiOjl9&amp;fbclid=IwAR3vOXvEK0l3SaGSAxZGgNyc4cNSi17wegJwcFX4oPefbVgUR16RsWDxGjg\"\n",
              "            frameborder=\"0\"\n",
              "            allowfullscreen\n",
              "        ></iframe>\n",
              "        "
            ],
            "text/plain": [
              "<IPython.lib.display.IFrame at 0x7fba4fc39550>"
            ]
          },
          "metadata": {
            "tags": []
          },
          "execution_count": 44
        }
      ]
    }
  ]
}