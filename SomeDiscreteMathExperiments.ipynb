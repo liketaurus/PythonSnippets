{
 "cells": [
  {
   "cell_type": "markdown",
   "metadata": {
    "id": "w76oIUkazUg8"
   },
   "source": [
    "# Кілька простих експериментів\n",
    "\n",
    "Просто приклади розв'язування деяких завдань з курсу Дискретної математики (і не тільки) засобами Python."
   ]
  },
  {
   "cell_type": "markdown",
   "metadata": {
    "id": "D-mwqBp19M_d"
   },
   "source": [
    "## 1. Діаграми Венна\n",
    "\n",
    "Детальніше про те як будувати такі діаграми з допомогою Python можна почитати [тут](https://towardsdatascience.com/how-to-create-and-beautify-venn-diagrams-in-python-331129bd4ed3)"
   ]
  },
  {
   "cell_type": "code",
   "execution_count": 11,
   "metadata": {},
   "outputs": [
    {
     "name": "stdout",
     "output_type": "stream",
     "text": [
      "Requirement already satisfied: matplotlib_venn in /srv/conda/envs/notebook/lib/python3.7/site-packages (0.11.6)\r\n",
      "Requirement already satisfied: scipy in /srv/conda/envs/notebook/lib/python3.7/site-packages (from matplotlib_venn) (1.6.2)\r\n",
      "Requirement already satisfied: numpy in /srv/conda/envs/notebook/lib/python3.7/site-packages (from matplotlib_venn) (1.20.2)\r\n",
      "Requirement already satisfied: matplotlib in /srv/conda/envs/notebook/lib/python3.7/site-packages (from matplotlib_venn) (3.4.1)\r\n",
      "Requirement already satisfied: pillow>=6.2.0 in /srv/conda/envs/notebook/lib/python3.7/site-packages (from matplotlib->matplotlib_venn) (8.2.0)\r\n",
      "Requirement already satisfied: python-dateutil>=2.7 in /srv/conda/envs/notebook/lib/python3.7/site-packages (from matplotlib->matplotlib_venn) (2.8.1)\r\n",
      "Requirement already satisfied: pyparsing>=2.2.1 in /srv/conda/envs/notebook/lib/python3.7/site-packages (from matplotlib->matplotlib_venn) (2.4.7)\r\n",
      "Requirement already satisfied: kiwisolver>=1.0.1 in /srv/conda/envs/notebook/lib/python3.7/site-packages (from matplotlib->matplotlib_venn) (1.3.1)\r\n",
      "Requirement already satisfied: cycler>=0.10 in /srv/conda/envs/notebook/lib/python3.7/site-packages (from matplotlib->matplotlib_venn) (0.10.0)\r\n",
      "Requirement already satisfied: six in /srv/conda/envs/notebook/lib/python3.7/site-packages (from cycler>=0.10->matplotlib->matplotlib_venn) (1.15.0)\r\n"
     ]
    }
   ],
   "source": [
    "# встановлюємо потрібний пакет\n",
    "!pip install matplotlib_venn"
   ]
  },
  {
   "cell_type": "code",
   "execution_count": 12,
   "metadata": {
    "colab": {
     "base_uri": "https://localhost:8080/",
     "height": 267
    },
    "id": "nc7lx234yeJu",
    "outputId": "75512579-499c-4800-a390-eafdafb5ecf8",
    "scrolled": true
   },
   "outputs": [
    {
     "data": {
      "image/png": "[encoded data removed]",
      "text/plain": [
       "<Figure size 432x288 with 1 Axes>"
      ]
     },
     "metadata": {},
     "output_type": "display_data"
    }
   ],
   "source": [
    "# імпорт бібліотек\n",
    "from matplotlib_venn import venn2, venn2_circles, venn2_unweighted\n",
    "from matplotlib_venn import venn3, venn3_circles\n",
    "from matplotlib import pyplot as plt\n",
    "%matplotlib inline\n",
    "\n",
    "# такий варіант мені не подобається\n",
    "# venn2(subsets = (30, 10, 5), set_labels = ('Group A', 'Group B'))\n",
    "# venn3(subsets = (20, 10, 12, 10, 9, 4, 3), set_labels = ('Group A', 'Group B', 'Group C'), alpha = 0.5);\n",
    "\n",
    "plt.title(\"Діаграма Венна для трьох команд\",fontsize=20);\n",
    "\n",
    "Team1=['Алдик','Бабич','Кишинець','Сидоренко','Майборода','Волков','Меркуце','Сизов','Рижій']\n",
    "Team2=['Бабич','Сидоренко','Майборода','Волков','Мірчук','Рижій','Мацегора','Сизоненко','Уткін','Орлеан','Харченко','Рак']\n",
    "Team3=['Кишинець','Сидоренко','Майборода','Волков','Поставна','Мірчук','Рижій','Рак']\n",
    "\n",
    "venn3([set(Team1), set(Team2), set(Team3)],set_labels=('Лицарі', 'Ніндзя', 'Спартанці'))\n",
    "\n",
    "plt.show()\n",
    "\n",
    "\n"
   ]
  },
  {
   "cell_type": "markdown",
   "metadata": {
    "id": "u9v24YpEneeg"
   },
   "source": [
    "## 2. Таблиці істинності\n",
    "Детальніше про виконання подібних завдань з допомогою Python можна почитати [тут](https://pypi.org/project/truth-table-generator/)"
   ]
  },
  {
   "cell_type": "code",
   "execution_count": 13,
   "metadata": {
    "id": "eYgwJXwroW66"
   },
   "outputs": [
    {
     "name": "stdout",
     "output_type": "stream",
     "text": [
      "Collecting truth-table-generator\n",
      "  Downloading truth_table_generator-1.1.2.tar.gz (14 kB)\n",
      "Requirement already satisfied: numpy in /srv/conda/envs/notebook/lib/python3.7/site-packages (from truth-table-generator) (1.20.2)\n",
      "Collecting pandas\n",
      "  Downloading pandas-1.2.3-cp37-cp37m-manylinux1_x86_64.whl (9.9 MB)\n",
      "\u001b[K     |████████████████████████████████| 9.9 MB 6.6 MB/s eta 0:00:01\n",
      "\u001b[?25hCollecting PTable\n",
      "  Downloading PTable-0.9.2.tar.gz (31 kB)\n",
      "Requirement already satisfied: pyparsing in /srv/conda/envs/notebook/lib/python3.7/site-packages (from truth-table-generator) (2.4.7)\n",
      "Collecting tabulate\n",
      "  Downloading tabulate-0.8.9-py3-none-any.whl (25 kB)\n",
      "Requirement already satisfied: jinja2 in /srv/conda/envs/notebook/lib/python3.7/site-packages (from truth-table-generator) (2.11.3)\n",
      "Requirement already satisfied: MarkupSafe>=0.23 in /srv/conda/envs/notebook/lib/python3.7/site-packages (from jinja2->truth-table-generator) (1.1.1)\n",
      "Requirement already satisfied: python-dateutil>=2.7.3 in /srv/conda/envs/notebook/lib/python3.7/site-packages (from pandas->truth-table-generator) (2.8.1)\n",
      "Requirement already satisfied: pytz>=2017.3 in /srv/conda/envs/notebook/lib/python3.7/site-packages (from pandas->truth-table-generator) (2021.1)\n",
      "Requirement already satisfied: six>=1.5 in /srv/conda/envs/notebook/lib/python3.7/site-packages (from python-dateutil>=2.7.3->pandas->truth-table-generator) (1.15.0)\n",
      "Building wheels for collected packages: truth-table-generator, PTable\n",
      "  Building wheel for truth-table-generator (setup.py) ... \u001b[?25ldone\n",
      "\u001b[?25h  Created wheel for truth-table-generator: filename=truth_table_generator-1.1.2-py3-none-any.whl size=13947 sha256=5d962c4a2597bdaee00b7c446a4b2f262d3c1311d315911a349512fbcbcfb63f\n",
      "  Stored in directory: /home/jovyan/.cache/pip/wheels/9a/55/b5/77f5756832494eafda92c7a94c1365ac31088a18a3a97dd480\n",
      "  Building wheel for PTable (setup.py) ... \u001b[?25ldone\n",
      "\u001b[?25h  Created wheel for PTable: filename=PTable-0.9.2-py3-none-any.whl size=22907 sha256=2644c66cc53c849089fad76b2d42e12a4dac653f2b0c996486a517c7a4c1abdd\n",
      "  Stored in directory: /home/jovyan/.cache/pip/wheels/33/df/2f/674985b3f8a2de3f96357d1eadef5110f74fa91b3785e52a54\n",
      "Successfully built truth-table-generator PTable\n",
      "Installing collected packages: tabulate, PTable, pandas, truth-table-generator\n",
      "Successfully installed PTable-0.9.2 pandas-1.2.3 tabulate-0.8.9 truth-table-generator-1.1.2\n"
     ]
    }
   ],
   "source": [
    "# встановлюємо необхідний пакет\n",
    "!pip install truth-table-generator"
   ]
  },
  {
   "cell_type": "code",
   "execution_count": 17,
   "metadata": {
    "colab": {
     "base_uri": "https://localhost:8080/"
    },
    "id": "3ISVzv2TqdAD",
    "outputId": "ddd86090-964c-4891-b73e-e38f70d7ed15"
   },
   "outputs": [
    {
     "name": "stdout",
     "output_type": "stream",
     "text": [
      "+-----+-----+-----+-----------------+---------------+--------------------+\n",
      "|  A  |  B  |  C  |  A and B and C  |  A or B or C  |  (A or (~B)) => C  |\n",
      "|-----+-----+-----+-----------------+---------------+--------------------|\n",
      "|  1  |  1  |  1  |        1        |       1       |         1          |\n",
      "|  1  |  1  |  0  |        0        |       1       |         0          |\n",
      "|  1  |  0  |  1  |        0        |       1       |         1          |\n",
      "|  1  |  0  |  0  |        0        |       1       |         0          |\n",
      "|  0  |  1  |  1  |        0        |       1       |         1          |\n",
      "|  0  |  1  |  0  |        0        |       1       |         1          |\n",
      "|  0  |  0  |  1  |        0        |       1       |         1          |\n",
      "|  0  |  0  |  0  |        0        |       0       |         0          |\n",
      "+-----+-----+-----+-----------------+---------------+--------------------+\n",
      "+-----+-----+----------+---------+\n",
      "|  A  |  B  |  A => B  |  A = B  |\n",
      "|-----+-----+----------+---------|\n",
      "|  1  |  1  |    1     |    1    |\n",
      "|  1  |  0  |    0     |    0    |\n",
      "|  0  |  1  |    1     |    0    |\n",
      "|  0  |  0  |    1     |    1    |\n",
      "+-----+-----+----------+---------+\n"
     ]
    }
   ],
   "source": [
    "# імпорт бібліотек\n",
    "import ttg\n",
    "\n",
    "# стандартний варіант без можливості форматування\n",
    "print(ttg.Truths(['A', 'B', 'C'], ['A and B and C', 'A or B or C', '(A or (~B)) => C']))\n",
    "\n",
    "# така ж таблиця, але дещо можна налаштувати\n",
    "table = ttg.Truths(['A', 'B'], ['A => B', 'A = B'])\n",
    "print(table.as_tabulate(index=False)) \n",
    "\n",
    "# теж непогано оформлено, але мені не дуже подобається\n",
    "# table.as_pandas().style.set_properties(**{'text-align': 'center'}).hide_index()"
   ]
  },
  {
   "cell_type": "markdown",
   "metadata": {
    "id": "84IPpZZ7r3pv"
   },
   "source": [
    "## 3. Теорія графів\n",
    "Детальніше про роботу з графами в Python можна почитати [тут](https://www.python-course.eu/graphs_python.php)"
   ]
  },
  {
   "cell_type": "code",
   "execution_count": 18,
   "metadata": {
    "colab": {
     "base_uri": "https://localhost:8080/"
    },
    "id": "rlAWUAlmsxnE",
    "outputId": "7816d05d-0129-4bab-af1a-3b56e55ebbbe"
   },
   "outputs": [
    {
     "name": "stdout",
     "output_type": "stream",
     "text": [
      "[('a', 'c'), ('b', 'c'), ('b', 'e'), ('c', 'a'), ('c', 'b'), ('c', 'd'), ('c', 'e'), ('d', 'c'), ('e', 'c'), ('e', 'b')]\n"
     ]
    }
   ],
   "source": [
    "# задаємо сам граф - яка вершина з якими пов'язана\n",
    "graph = { \"a\" : [\"c\"],\n",
    "          \"b\" : [\"c\", \"e\"],\n",
    "          \"c\" : [\"a\", \"b\", \"d\", \"e\"],\n",
    "          \"d\" : [\"c\"],\n",
    "          \"e\" : [\"c\", \"b\"],\n",
    "          \"f\" : []\n",
    "        }\n",
    "\n",
    "# функція для створення списку зв'язаних вершин\n",
    "def generate_edges(graph):\n",
    "    edges = []\n",
    "    for node in graph:\n",
    "        for neighbour in graph[node]:\n",
    "            edges.append((node, neighbour))\n",
    "\n",
    "    return edges\n",
    "\n",
    "print(generate_edges(graph))"
   ]
  },
  {
   "cell_type": "markdown",
   "metadata": {
    "id": "10WB7TpXtKOg"
   },
   "source": [
    "Ось так цей граф можна було б зобразити наочно:\n",
    "![](https://www.python-course.eu/images/simple_graph_isolated.png)"
   ]
  },
  {
   "cell_type": "markdown",
   "metadata": {},
   "source": [
    "А тепер спробуємо візуалізувати. Для цього побудуємо мережеву діаграму з використанням бібліотеки [NetworkX](https://www.python-graph-gallery.com/network-chart).\n",
    "Детальніше дивіться в [галереї діаграм](https://www.python-graph-gallery.com)"
   ]
  },
  {
   "cell_type": "code",
   "execution_count": 31,
   "metadata": {},
   "outputs": [
    {
     "name": "stdout",
     "output_type": "stream",
     "text": [
      "Requirement already satisfied: networkx in /srv/conda/envs/notebook/lib/python3.7/site-packages (2.5.1)\r\n",
      "Requirement already satisfied: decorator<5,>=4.3 in /srv/conda/envs/notebook/lib/python3.7/site-packages (from networkx) (4.4.2)\r\n"
     ]
    }
   ],
   "source": [
    "# встановлюємо необхідний пакет\n",
    "!pip install networkx"
   ]
  },
  {
   "cell_type": "code",
   "execution_count": 28,
   "metadata": {
    "colab": {
     "base_uri": "https://localhost:8080/",
     "height": 319
    },
    "id": "Hy2qKiBNtTxh",
    "outputId": "9e545d25-a6e2-4b1f-fe62-1a3b2e7f6951"
   },
   "outputs": [
    {
     "data": {
      "image/png": "[encoded data removed]",
      "text/plain": [
       "<Figure size 432x288 with 1 Axes>"
      ]
     },
     "metadata": {},
     "output_type": "display_data"
    }
   ],
   "source": [
    "# імпорт бібліотек\n",
    "import pandas as pd\n",
    "import numpy as np\n",
    "import networkx as nx\n",
    "import matplotlib.pyplot as plt\n",
    " \n",
    "# яка вершина з якою пов'язана - тут слід бути уважним\n",
    "df = pd.DataFrame({ 'from':['A', 'B', 'C', 'D', 'E', 'F'], 'to':['C', 'E', 'B', 'C', 'C', 'F']})\n",
    " \n",
    "# побудова графа\n",
    "G=nx.from_pandas_edgelist(df, 'from', 'to')\n",
    " \n",
    "# виводимо результат і налаштовуємо зовнішній вигляд графа\n",
    "nx.draw(G, with_labels=True, node_size=900, node_color=\"skyblue\", node_shape=\"o\", alpha=0.5, linewidths=4, font_size=25, \n",
    "        font_color=\"grey\", font_weight=\"bold\", width=2, edge_color=\"grey\")"
   ]
  },
  {
   "cell_type": "markdown",
   "metadata": {
    "id": "fXxNtl3exNyb"
   },
   "source": [
    "## 4. Логіка висловлень\n",
    "Детальніше про розв'язування завдань такого типу в Python можна почитати [тут](https://docs.sympy.org/latest/modules/logic.html). Використовується бібліотека [SymPy](https://www.sympy.org/en/index.html)."
   ]
  },
  {
   "cell_type": "markdown",
   "metadata": {
    "id": "i4SnUfAd9Ft4"
   },
   "source": [
    "### 4.1. Спрощення виразів"
   ]
  },
  {
   "cell_type": "code",
   "execution_count": 32,
   "metadata": {},
   "outputs": [
    {
     "name": "stdout",
     "output_type": "stream",
     "text": [
      "Requirement already satisfied: sympy in /srv/conda/envs/notebook/lib/python3.7/site-packages (1.8)\r\n",
      "Requirement already satisfied: mpmath>=0.19 in /srv/conda/envs/notebook/lib/python3.7/site-packages (from sympy) (1.2.1)\r\n"
     ]
    }
   ],
   "source": [
    "# встановлюємо необхідний пакет\n",
    "!pip install sympy"
   ]
  },
  {
   "cell_type": "code",
   "execution_count": 38,
   "metadata": {
    "colab": {
     "base_uri": "https://localhost:8080/",
     "height": 39
    },
    "id": "9g5Qu63Vx-H5",
    "outputId": "3ebc3f3a-af75-40b5-c6fe-67ca9990f32d"
   },
   "outputs": [
    {
     "data": {
      "text/latex": [
       "$\\displaystyle \\neg A \\wedge \\neg B$"
      ],
      "text/plain": [
       "~A & ~B"
      ]
     },
     "execution_count": 38,
     "metadata": {},
     "output_type": "execute_result"
    }
   ],
   "source": [
    "# імпорт бібліотек\n",
    "from sympy.logic import simplify_logic\n",
    "from sympy.abc import A, B, C\n",
    "from sympy import S\n",
    "\n",
    "# наш вираз\n",
    "x = (~A & ~B & ~C) | ( ~A & ~B & C)\n",
    "\n",
    "# спрощуємо\n",
    "simplify_logic(x)"
   ]
  },
  {
   "cell_type": "markdown",
   "metadata": {
    "id": "DwRjX9J2yWWt"
   },
   "source": [
    "### 4.2. ДНФ та КНФ\n",
    "[Диз'юнктивна](https://uk.wikipedia.org/wiki/%D0%94%D0%B8%D0%B7%27%D1%8E%D0%BD%D0%BA%D1%82%D0%B8%D0%B2%D0%BD%D0%B0_%D0%BD%D0%BE%D1%80%D0%BC%D0%B0%D0%BB%D1%8C%D0%BD%D0%B0_%D1%84%D0%BE%D1%80%D0%BC%D0%B0) нормальна форма та [кон'юнктивна](https://uk.wikipedia.org/wiki/%D0%9A%D0%BE%D0%BD%27%D1%8E%D0%BD%D0%BA%D1%82%D0%B8%D0%B2%D0%BD%D0%B0_%D0%BD%D0%BE%D1%80%D0%BC%D0%B0%D0%BB%D1%8C%D0%BD%D0%B0_%D1%84%D0%BE%D1%80%D0%BC%D0%B0) нормальна форма"
   ]
  },
  {
   "cell_type": "code",
   "execution_count": 40,
   "metadata": {
    "colab": {
     "base_uri": "https://localhost:8080/",
     "height": 39
    },
    "id": "P0HR_aYtygPl",
    "outputId": "fac3551c-107c-49a1-add9-ac03dbe20a68"
   },
   "outputs": [
    {
     "data": {
      "text/latex": [
       "$\\displaystyle \\left(C \\vee \\neg A\\right) \\wedge \\left(C \\vee \\neg B\\right)$"
      ],
      "text/plain": [
       "(C | ~A) & (C | ~B)"
      ]
     },
     "execution_count": 40,
     "metadata": {},
     "output_type": "execute_result"
    }
   ],
   "source": [
    "# імпорт бібліотек\n",
    "from sympy.logic.boolalg import to_cnf\n",
    "from sympy.abc import A, B, C\n",
    "\n",
    "# спочатку КНФ\n",
    "to_cnf(~(A | B) | C)"
   ]
  },
  {
   "cell_type": "code",
   "execution_count": 41,
   "metadata": {
    "colab": {
     "base_uri": "https://localhost:8080/",
     "height": 39
    },
    "id": "ZvbVlJXZyjdX",
    "outputId": "addcffc5-3a74-47b8-d4ed-b4069c702537"
   },
   "outputs": [
    {
     "data": {
      "text/latex": [
       "$\\displaystyle \\left(A \\wedge B\\right) \\vee \\left(B \\wedge C\\right)$"
      ],
      "text/plain": [
       "(A & B) | (B & C)"
      ]
     },
     "execution_count": 41,
     "metadata": {},
     "output_type": "execute_result"
    }
   ],
   "source": [
    "# імпорт бібліотек\n",
    "from sympy.logic.boolalg import to_dnf\n",
    "from sympy.abc import A, B, C\n",
    "\n",
    "# а тепер КНФ\n",
    "to_dnf(B & (A | C))"
   ]
  },
  {
   "cell_type": "markdown",
   "metadata": {
    "id": "dDthzfP-zcMn"
   },
   "source": [
    "## 5. Матриці\n",
    "Детальніше як з ними працювати в Python можна почитати [тут](https://docs.sympy.org/latest/tutorial/matrices.html)"
   ]
  },
  {
   "cell_type": "code",
   "execution_count": 48,
   "metadata": {
    "colab": {
     "base_uri": "https://localhost:8080/",
     "height": 58
    },
    "id": "H7JVjuCezckO",
    "outputId": "197d69ea-a0ec-47ad-cc44-2a1465febb3e"
   },
   "outputs": [
    {
     "data": {
      "text/latex": [
       "$\\displaystyle \\left[\\begin{matrix}1 & 3\\\\-2 & 3\\end{matrix}\\right]$"
      ],
      "text/plain": [
       "⎡1   3⎤\n",
       "⎢     ⎥\n",
       "⎣-2  3⎦"
      ]
     },
     "execution_count": 48,
     "metadata": {},
     "output_type": "execute_result"
    }
   ],
   "source": [
    "# імпорт бібліотек\n",
    "from sympy import *\n",
    "\n",
    "# налаштовуємо виведення\n",
    "init_printing(use_unicode=True)\n",
    "\n",
    "# задаємо матриці\n",
    "M = Matrix([[1, 3], [-2, 3]])\n",
    "N = Matrix([[0, 3], [0, 7]])\n",
    "\n",
    "# виводимо першу матрицю\n",
    "M"
   ]
  },
  {
   "cell_type": "code",
   "execution_count": 49,
   "metadata": {},
   "outputs": [
    {
     "data": {
      "text/latex": [
       "$\\displaystyle \\left[\\begin{matrix}0 & 3\\\\0 & 7\\end{matrix}\\right]$"
      ],
      "text/plain": [
       "⎡0  3⎤\n",
       "⎢    ⎥\n",
       "⎣0  7⎦"
      ]
     },
     "execution_count": 49,
     "metadata": {},
     "output_type": "execute_result"
    }
   ],
   "source": [
    "# виводимо другу матрицю\n",
    "N"
   ]
  },
  {
   "cell_type": "code",
   "execution_count": 50,
   "metadata": {},
   "outputs": [
    {
     "data": {
      "text/latex": [
       "$\\displaystyle \\left[\\begin{matrix}1 & 6\\\\-2 & 10\\end{matrix}\\right]$"
      ],
      "text/plain": [
       "⎡1   6 ⎤\n",
       "⎢      ⎥\n",
       "⎣-2  10⎦"
      ]
     },
     "execution_count": 50,
     "metadata": {},
     "output_type": "execute_result"
    }
   ],
   "source": [
    "# додаємо їх\n",
    "M + N"
   ]
  },
  {
   "cell_type": "code",
   "execution_count": 51,
   "metadata": {
    "colab": {
     "base_uri": "https://localhost:8080/",
     "height": 58
    },
    "id": "abk-vbJK0SQr",
    "outputId": "97460e06-dd66-4b25-a919-7d7d999d0602"
   },
   "outputs": [
    {
     "data": {
      "text/latex": [
       "$\\displaystyle \\left[\\begin{matrix}0 & 24\\\\0 & 15\\end{matrix}\\right]$"
      ],
      "text/plain": [
       "⎡0  24⎤\n",
       "⎢     ⎥\n",
       "⎣0  15⎦"
      ]
     },
     "execution_count": 51,
     "metadata": {},
     "output_type": "execute_result"
    }
   ],
   "source": [
    "# множимо матриці\n",
    "M*N"
   ]
  },
  {
   "cell_type": "code",
   "execution_count": 52,
   "metadata": {
    "colab": {
     "base_uri": "https://localhost:8080/",
     "height": 58
    },
    "id": "IDKg6bLM0V6a",
    "outputId": "84e077bf-c15c-469f-ba04-c142efd2996c"
   },
   "outputs": [
    {
     "data": {
      "text/latex": [
       "$\\displaystyle \\left[\\begin{matrix}1 & -2\\\\3 & 3\\end{matrix}\\right]$"
      ],
      "text/plain": [
       "⎡1  -2⎤\n",
       "⎢     ⎥\n",
       "⎣3  3 ⎦"
      ]
     },
     "execution_count": 52,
     "metadata": {},
     "output_type": "execute_result"
    }
   ],
   "source": [
    "# транспонуємо першу матрицю\n",
    "M.T"
   ]
  },
  {
   "cell_type": "markdown",
   "metadata": {
    "id": "I837B7K-viib"
   },
   "source": [
    "## 6. Інші приклади\n"
   ]
  },
  {
   "cell_type": "markdown",
   "metadata": {},
   "source": [
    "### 6.1. Карти \n",
    "Детальніше можна почитати в [галереї діаграм](https://www.python-graph-gallery.com/288-map-background-with-folium) та документації до бібліотеки [Folium](https://python-visualization.github.io/folium/quickstart.html)"
   ]
  },
  {
   "cell_type": "code",
   "execution_count": 56,
   "metadata": {},
   "outputs": [
    {
     "name": "stdout",
     "output_type": "stream",
     "text": [
      "Requirement already satisfied: folium in /srv/conda/envs/notebook/lib/python3.7/site-packages (0.12.1)\r\n",
      "Requirement already satisfied: branca>=0.3.0 in /srv/conda/envs/notebook/lib/python3.7/site-packages (from folium) (0.4.2)\r\n",
      "Requirement already satisfied: requests in /srv/conda/envs/notebook/lib/python3.7/site-packages (from folium) (2.25.1)\r\n",
      "Requirement already satisfied: numpy in /srv/conda/envs/notebook/lib/python3.7/site-packages (from folium) (1.20.2)\r\n",
      "Requirement already satisfied: jinja2>=2.9 in /srv/conda/envs/notebook/lib/python3.7/site-packages (from folium) (2.11.3)\r\n",
      "Requirement already satisfied: MarkupSafe>=0.23 in /srv/conda/envs/notebook/lib/python3.7/site-packages (from jinja2>=2.9->folium) (1.1.1)\r\n",
      "Requirement already satisfied: certifi>=2017.4.17 in /srv/conda/envs/notebook/lib/python3.7/site-packages (from requests->folium) (2020.12.5)\r\n",
      "Requirement already satisfied: idna<3,>=2.5 in /srv/conda/envs/notebook/lib/python3.7/site-packages (from requests->folium) (2.10)\r\n",
      "Requirement already satisfied: urllib3<1.27,>=1.21.1 in /srv/conda/envs/notebook/lib/python3.7/site-packages (from requests->folium) (1.26.3)\r\n",
      "Requirement already satisfied: chardet<5,>=3.0.2 in /srv/conda/envs/notebook/lib/python3.7/site-packages (from requests->folium) (4.0.0)\r\n"
     ]
    }
   ],
   "source": [
    "# встановлюємо необхідний пакет\n",
    "!pip install folium"
   ]
  },
  {
   "cell_type": "code",
   "execution_count": 57,
   "metadata": {
    "colab": {
     "base_uri": "https://localhost:8080/",
     "height": 505
    },
    "id": "pNR3HcXsvi1k",
    "outputId": "1ff20201-2c8a-4d9f-f16a-d9c926414d23"
   },
   "outputs": [
    {
     "data": {
      "text/html": [
       "<div style=\"width:100%;\"><div style=\"position:relative;width:100%;height:0;padding-bottom:60%;\"><span style=\"color:#565656\">Make this Notebook Trusted to load map: File -> Trust Notebook</span><iframe src=\"about:blank\" style=\"position:absolute;width:100%;height:100%;left:0;top:0;border:none !important;\" data-html=%3C%21DOCTYPE%20html%3E%0A%3Chead%3E%20%20%20%20%0A%20%20%20%20%3Cmeta%20http-equiv%3D%22content-type%22%20content%3D%22text/html%3B%20charset%3DUTF-8%22%20/%3E%0A%20%20%20%20%0A%20%20%20%20%20%20%20%20%3Cscript%3E%0A%20%20%20%20%20%20%20%20%20%20%20%20L_NO_TOUCH%20%3D%20false%3B%0A%20%20%20%20%20%20%20%20%20%20%20%20L_DISABLE_3D%20%3D%20false%3B%0A%20%20%20%20%20%20%20%20%3C/script%3E%0A%20%20%20%20%0A%20%20%20%20%3Cstyle%3Ehtml%2C%20body%20%7Bwidth%3A%20100%25%3Bheight%3A%20100%25%3Bmargin%3A%200%3Bpadding%3A%200%3B%7D%3C/style%3E%0A%20%20%20%20%3Cstyle%3E%23map%20%7Bposition%3Aabsolute%3Btop%3A0%3Bbottom%3A0%3Bright%3A0%3Bleft%3A0%3B%7D%3C/style%3E%0A%20%20%20%20%3Cscript%20src%3D%22https%3A//cdn.jsdelivr.net/npm/leaflet%401.6.0/dist/leaflet.js%22%3E%3C/script%3E%0A%20%20%20%20%3Cscript%20src%3D%22https%3A//code.jquery.com/jquery-1.12.4.min.js%22%3E%3C/script%3E%0A%20%20%20%20%3Cscript%20src%3D%22https%3A//maxcdn.bootstrapcdn.com/bootstrap/3.2.0/js/bootstrap.min.js%22%3E%3C/script%3E%0A%20%20%20%20%3Cscript%20src%3D%22https%3A//cdnjs.cloudflare.com/ajax/libs/Leaflet.awesome-markers/2.0.2/leaflet.awesome-markers.js%22%3E%3C/script%3E%0A%20%20%20%20%3Clink%20rel%3D%22stylesheet%22%20href%3D%22https%3A//cdn.jsdelivr.net/npm/leaflet%401.6.0/dist/leaflet.css%22/%3E%0A%20%20%20%20%3Clink%20rel%3D%22stylesheet%22%20href%3D%22https%3A//maxcdn.bootstrapcdn.com/bootstrap/3.2.0/css/bootstrap.min.css%22/%3E%0A%20%20%20%20%3Clink%20rel%3D%22stylesheet%22%20href%3D%22https%3A//maxcdn.bootstrapcdn.com/bootstrap/3.2.0/css/bootstrap-theme.min.css%22/%3E%0A%20%20%20%20%3Clink%20rel%3D%22stylesheet%22%20href%3D%22https%3A//maxcdn.bootstrapcdn.com/font-awesome/4.6.3/css/font-awesome.min.css%22/%3E%0A%20%20%20%20%3Clink%20rel%3D%22stylesheet%22%20href%3D%22https%3A//cdnjs.cloudflare.com/ajax/libs/Leaflet.awesome-markers/2.0.2/leaflet.awesome-markers.css%22/%3E%0A%20%20%20%20%3Clink%20rel%3D%22stylesheet%22%20href%3D%22https%3A//cdn.jsdelivr.net/gh/python-visualization/folium/folium/templates/leaflet.awesome.rotate.min.css%22/%3E%0A%20%20%20%20%0A%20%20%20%20%20%20%20%20%20%20%20%20%3Cmeta%20name%3D%22viewport%22%20content%3D%22width%3Ddevice-width%2C%0A%20%20%20%20%20%20%20%20%20%20%20%20%20%20%20%20initial-scale%3D1.0%2C%20maximum-scale%3D1.0%2C%20user-scalable%3Dno%22%20/%3E%0A%20%20%20%20%20%20%20%20%20%20%20%20%3Cstyle%3E%0A%20%20%20%20%20%20%20%20%20%20%20%20%20%20%20%20%23map_88219262c81b41129f1cc899f3260e4d%20%7B%0A%20%20%20%20%20%20%20%20%20%20%20%20%20%20%20%20%20%20%20%20position%3A%20relative%3B%0A%20%20%20%20%20%20%20%20%20%20%20%20%20%20%20%20%20%20%20%20width%3A%20100.0%25%3B%0A%20%20%20%20%20%20%20%20%20%20%20%20%20%20%20%20%20%20%20%20height%3A%20100.0%25%3B%0A%20%20%20%20%20%20%20%20%20%20%20%20%20%20%20%20%20%20%20%20left%3A%200.0%25%3B%0A%20%20%20%20%20%20%20%20%20%20%20%20%20%20%20%20%20%20%20%20top%3A%200.0%25%3B%0A%20%20%20%20%20%20%20%20%20%20%20%20%20%20%20%20%7D%0A%20%20%20%20%20%20%20%20%20%20%20%20%3C/style%3E%0A%20%20%20%20%20%20%20%20%0A%3C/head%3E%0A%3Cbody%3E%20%20%20%20%0A%20%20%20%20%0A%20%20%20%20%20%20%20%20%20%20%20%20%3Cdiv%20class%3D%22folium-map%22%20id%3D%22map_88219262c81b41129f1cc899f3260e4d%22%20%3E%3C/div%3E%0A%20%20%20%20%20%20%20%20%0A%3C/body%3E%0A%3Cscript%3E%20%20%20%20%0A%20%20%20%20%0A%20%20%20%20%20%20%20%20%20%20%20%20var%20map_88219262c81b41129f1cc899f3260e4d%20%3D%20L.map%28%0A%20%20%20%20%20%20%20%20%20%20%20%20%20%20%20%20%22map_88219262c81b41129f1cc899f3260e4d%22%2C%0A%20%20%20%20%20%20%20%20%20%20%20%20%20%20%20%20%7B%0A%20%20%20%20%20%20%20%20%20%20%20%20%20%20%20%20%20%20%20%20center%3A%20%5B49.590033669823875%2C%2034.550941823527936%5D%2C%0A%20%20%20%20%20%20%20%20%20%20%20%20%20%20%20%20%20%20%20%20crs%3A%20L.CRS.EPSG3857%2C%0A%20%20%20%20%20%20%20%20%20%20%20%20%20%20%20%20%20%20%20%20zoom%3A%2016%2C%0A%20%20%20%20%20%20%20%20%20%20%20%20%20%20%20%20%20%20%20%20zoomControl%3A%20true%2C%0A%20%20%20%20%20%20%20%20%20%20%20%20%20%20%20%20%20%20%20%20preferCanvas%3A%20false%2C%0A%20%20%20%20%20%20%20%20%20%20%20%20%20%20%20%20%7D%0A%20%20%20%20%20%20%20%20%20%20%20%20%29%3B%0A%0A%20%20%20%20%20%20%20%20%20%20%20%20%0A%0A%20%20%20%20%20%20%20%20%0A%20%20%20%20%0A%20%20%20%20%20%20%20%20%20%20%20%20var%20tile_layer_22b553fb13324449ae7ca15fbb4ac749%20%3D%20L.tileLayer%28%0A%20%20%20%20%20%20%20%20%20%20%20%20%20%20%20%20%22https%3A//%7Bs%7D.tile.openstreetmap.org/%7Bz%7D/%7Bx%7D/%7By%7D.png%22%2C%0A%20%20%20%20%20%20%20%20%20%20%20%20%20%20%20%20%7B%22attribution%22%3A%20%22Data%20by%20%5Cu0026copy%3B%20%5Cu003ca%20href%3D%5C%22http%3A//openstreetmap.org%5C%22%5Cu003eOpenStreetMap%5Cu003c/a%5Cu003e%2C%20under%20%5Cu003ca%20href%3D%5C%22http%3A//www.openstreetmap.org/copyright%5C%22%5Cu003eODbL%5Cu003c/a%5Cu003e.%22%2C%20%22detectRetina%22%3A%20false%2C%20%22maxNativeZoom%22%3A%2018%2C%20%22maxZoom%22%3A%2018%2C%20%22minZoom%22%3A%200%2C%20%22noWrap%22%3A%20false%2C%20%22opacity%22%3A%201%2C%20%22subdomains%22%3A%20%22abc%22%2C%20%22tms%22%3A%20false%7D%0A%20%20%20%20%20%20%20%20%20%20%20%20%29.addTo%28map_88219262c81b41129f1cc899f3260e4d%29%3B%0A%20%20%20%20%20%20%20%20%0A%20%20%20%20%0A%20%20%20%20%20%20%20%20%20%20%20%20var%20circle_96c4de0e367c447e9349fc95cd02449d%20%3D%20L.circle%28%0A%20%20%20%20%20%20%20%20%20%20%20%20%20%20%20%20%5B49.58771238565784%2C%2034.54304621524288%5D%2C%0A%20%20%20%20%20%20%20%20%20%20%20%20%20%20%20%20%7B%22bubblingMouseEvents%22%3A%20true%2C%20%22color%22%3A%20%22crimson%22%2C%20%22dashArray%22%3A%20null%2C%20%22dashOffset%22%3A%20null%2C%20%22fill%22%3A%20true%2C%20%22fillColor%22%3A%20%22%233186cc%22%2C%20%22fillOpacity%22%3A%200.2%2C%20%22fillRule%22%3A%20%22evenodd%22%2C%20%22lineCap%22%3A%20%22round%22%2C%20%22lineJoin%22%3A%20%22round%22%2C%20%22opacity%22%3A%201.0%2C%20%22radius%22%3A%2060%2C%20%22stroke%22%3A%20true%2C%20%22weight%22%3A%203%7D%0A%20%20%20%20%20%20%20%20%20%20%20%20%29.addTo%28map_88219262c81b41129f1cc899f3260e4d%29%3B%0A%20%20%20%20%20%20%20%20%0A%20%20%20%20%0A%20%20%20%20%20%20%20%20var%20popup_0b74759986cd4ebf9392ebf198335437%20%3D%20L.popup%28%7B%22maxWidth%22%3A%20%22100%25%22%7D%29%3B%0A%0A%20%20%20%20%20%20%20%20%0A%20%20%20%20%20%20%20%20%20%20%20%20var%20html_661686f8ff644c22b404afb7c25a61c2%20%3D%20%24%28%60%3Cdiv%20id%3D%22html_661686f8ff644c22b404afb7c25a61c2%22%20style%3D%22width%3A%20100.0%25%3B%20height%3A%20100.0%25%3B%22%3E%D0%9F%D0%BE%D0%BB%D1%82%D0%B0%D0%B2%D1%81%D1%8C%D0%BA%D0%B8%D0%B9%20%D0%BF%D0%BE%D0%BB%D1%96%D1%82%D0%B5%D1%85%D0%BD%D1%96%D1%87%D0%BD%D0%B8%D0%B9%20%D0%BA%D0%BE%D0%BB%D0%B5%D0%B4%D0%B6%3C/div%3E%60%29%5B0%5D%3B%0A%20%20%20%20%20%20%20%20%20%20%20%20popup_0b74759986cd4ebf9392ebf198335437.setContent%28html_661686f8ff644c22b404afb7c25a61c2%29%3B%0A%20%20%20%20%20%20%20%20%0A%0A%20%20%20%20%20%20%20%20circle_96c4de0e367c447e9349fc95cd02449d.bindPopup%28popup_0b74759986cd4ebf9392ebf198335437%29%0A%20%20%20%20%20%20%20%20%3B%0A%0A%20%20%20%20%20%20%20%20%0A%20%20%20%20%0A%20%20%20%20%0A%20%20%20%20%20%20%20%20%20%20%20%20var%20marker_0deea2cbd16c41b884736d1e041b7bdd%20%3D%20L.marker%28%0A%20%20%20%20%20%20%20%20%20%20%20%20%20%20%20%20%5B49.58771238565784%2C%2034.54304621524288%5D%2C%0A%20%20%20%20%20%20%20%20%20%20%20%20%20%20%20%20%7B%7D%0A%20%20%20%20%20%20%20%20%20%20%20%20%29.addTo%28map_88219262c81b41129f1cc899f3260e4d%29%3B%0A%20%20%20%20%20%20%20%20%0A%20%20%20%20%0A%20%20%20%20%20%20%20%20%20%20%20%20var%20icon_5e0752a802cb4beab8297ef9005f279c%20%3D%20L.AwesomeMarkers.icon%28%0A%20%20%20%20%20%20%20%20%20%20%20%20%20%20%20%20%7B%22extraClasses%22%3A%20%22fa-rotate-0%22%2C%20%22icon%22%3A%20%22info-sign%22%2C%20%22iconColor%22%3A%20%22white%22%2C%20%22markerColor%22%3A%20%22green%22%2C%20%22prefix%22%3A%20%22glyphicon%22%7D%0A%20%20%20%20%20%20%20%20%20%20%20%20%29%3B%0A%20%20%20%20%20%20%20%20%20%20%20%20marker_0deea2cbd16c41b884736d1e041b7bdd.setIcon%28icon_5e0752a802cb4beab8297ef9005f279c%29%3B%0A%20%20%20%20%20%20%20%20%0A%20%20%20%20%0A%20%20%20%20%20%20%20%20var%20popup_b32d46d546934364ac6d0bcfcfb66830%20%3D%20L.popup%28%7B%22maxWidth%22%3A%20%22100%25%22%7D%29%3B%0A%0A%20%20%20%20%20%20%20%20%0A%20%20%20%20%20%20%20%20%20%20%20%20var%20html_af3f2e7738474d6eb4e0bce9a1345958%20%3D%20%24%28%60%3Cdiv%20id%3D%22html_af3f2e7738474d6eb4e0bce9a1345958%22%20style%3D%22width%3A%20100.0%25%3B%20height%3A%20100.0%25%3B%22%3E%3Ch3%3E%D0%9F%D0%BE%D0%BB%D1%82%D0%B0%D0%B2%D1%81%D1%8C%D0%BA%D0%B8%D0%B9%20%D0%BF%D0%BE%D0%BB%D1%96%D1%82%D0%B5%D1%85%D0%BD%D1%96%D1%87%D0%BD%D0%B8%D0%B9%20%D0%BA%D0%BE%D0%BB%D0%B5%D0%B4%D0%B6%3C/h3%3E%3Cp%3E%3Cimg%20src%3D%27https%3A//lh5.googleusercontent.com/p/AF1QipOlUnNjdQfAK43eX9D2GNeUVoBSONhfGbwsT12S%3Dw408-h272-k-no%27/%3E%3Cbr/%3E%3Cbr/%3E%3Ca%20href%3D%27http%3A//www.polytechnic.poltava.ua/%27%20target%3D%27blank%27%3E%D0%9E%D1%84%D1%96%D1%86%D1%96%D0%B9%D0%BD%D0%B8%D0%B9%20%D1%81%D0%B0%D0%B9%D1%82...%3C/a%3E%3C/p%3E%3C/div%3E%60%29%5B0%5D%3B%0A%20%20%20%20%20%20%20%20%20%20%20%20popup_b32d46d546934364ac6d0bcfcfb66830.setContent%28html_af3f2e7738474d6eb4e0bce9a1345958%29%3B%0A%20%20%20%20%20%20%20%20%0A%0A%20%20%20%20%20%20%20%20marker_0deea2cbd16c41b884736d1e041b7bdd.bindPopup%28popup_b32d46d546934364ac6d0bcfcfb66830%29%0A%20%20%20%20%20%20%20%20%3B%0A%0A%20%20%20%20%20%20%20%20%0A%20%20%20%20%0A%20%20%20%20%0A%20%20%20%20%20%20%20%20%20%20%20%20marker_0deea2cbd16c41b884736d1e041b7bdd.bindTooltip%28%0A%20%20%20%20%20%20%20%20%20%20%20%20%20%20%20%20%60%3Cdiv%3E%0A%20%20%20%20%20%20%20%20%20%20%20%20%20%20%20%20%20%20%20%20%20%D0%9D%D0%B0%D1%82%D0%B8%D1%81%D0%BD%D0%B8%20%D1%89%D0%BE%D0%B1%20%D0%B4%D1%96%D0%B7%D0%BD%D0%B0%D1%82%D0%B8%D1%81%D1%8C%20%D0%B1%D1%96%D0%BB%D1%8C%D1%88%D0%B5%21%0A%20%20%20%20%20%20%20%20%20%20%20%20%20%20%20%20%20%3C/div%3E%60%2C%0A%20%20%20%20%20%20%20%20%20%20%20%20%20%20%20%20%7B%22sticky%22%3A%20true%7D%0A%20%20%20%20%20%20%20%20%20%20%20%20%29%3B%0A%20%20%20%20%20%20%20%20%0A%3C/script%3E onload=\"this.contentDocument.open();this.contentDocument.write(    decodeURIComponent(this.getAttribute('data-html')));this.contentDocument.close();\" allowfullscreen webkitallowfullscreen mozallowfullscreen></iframe></div></div>"
      ],
      "text/plain": [
       "<folium.folium.Map at 0x7fbcfceb35d0>"
      ]
     },
     "execution_count": 57,
     "metadata": {},
     "output_type": "execute_result"
    }
   ],
   "source": [
    "# імпорт бібліотеки\n",
    "import folium\n",
    "\n",
    "# задаємо координати центру ділянки карти та початковий масштаб\n",
    "map = folium.Map(location=[49.590033669823875, 34.550941823527936], zoom_start=16)\n",
    "\n",
    "# задаємо текст спливаючої підказки\n",
    "tooltip = \"Натисни щоб дізнатись більше!\"\n",
    "\n",
    "# обводимо колом наш коледж:)\n",
    "folium.Circle(\n",
    "    radius=60,\n",
    "    location=[49.58771238565784, 34.54304621524288], \n",
    "    popup=\"Полтавський політехнічний коледж\",\n",
    "    color=\"crimson\",\n",
    "    fill=True,\n",
    "    fill_color=\"#3186cc\"\n",
    ").add_to(map)\n",
    "\n",
    "# ставимо маркер на будівлі коледжа:)\n",
    "folium.Marker(\n",
    "    [49.58771238565784, 34.54304621524288], \n",
    "    popup=\"<h3>Полтавський політехнічний коледж</h3><p><img src='https://lh5.googleusercontent.com/p/AF1QipOlUnNjdQfAK43eX9D2GNeUVoBSONhfGbwsT12S=w408-h272-k-no'/><br/><br/><a href='http://www.polytechnic.poltava.ua/' target='blank'>Офіційний сайт...</a></p>\", \n",
    "    tooltip=tooltip,\n",
    "    icon=folium.Icon(color=\"green\", icon=\"info-sign\")\n",
    ").add_to(map)\n",
    "\n",
    "# виводимо карту\n",
    "map"
   ]
  },
  {
   "cell_type": "markdown",
   "metadata": {
    "id": "5olwYWFw8ofi"
   },
   "source": [
    "### 6.2. QR-коди"
   ]
  },
  {
   "cell_type": "code",
   "execution_count": 58,
   "metadata": {
    "colab": {
     "base_uri": "https://localhost:8080/"
    },
    "id": "oF8Qt0qf8ovp",
    "outputId": "806b953c-89cf-44a0-d2c6-2172e342dd76"
   },
   "outputs": [
    {
     "name": "stdout",
     "output_type": "stream",
     "text": [
      "Collecting qrcode[pil]\n",
      "  Downloading qrcode-6.1-py2.py3-none-any.whl (31 kB)\n",
      "Requirement already satisfied: six in /srv/conda/envs/notebook/lib/python3.7/site-packages (from qrcode[pil]) (1.15.0)\n",
      "Requirement already satisfied: pillow in /srv/conda/envs/notebook/lib/python3.7/site-packages (from qrcode[pil]) (8.2.0)\n",
      "Installing collected packages: qrcode\n",
      "Successfully installed qrcode-6.1\n"
     ]
    }
   ],
   "source": [
    "# встановлюємо необхідний пакет\n",
    "!pip install \"qrcode[pil]\""
   ]
  },
  {
   "cell_type": "code",
   "execution_count": 59,
   "metadata": {
    "colab": {
     "base_uri": "https://localhost:8080/",
     "height": 387
    },
    "id": "SmKnCtmr8svx",
    "outputId": "25f3acb7-cdd4-428a-980c-4d37f43dbe86"
   },
   "outputs": [
    {
     "data": {
      "image/png": "[encoded data removed]",
      "text/plain": [
       "<qrcode.image.pil.PilImage at 0x7fbcfc4b3790>"
      ]
     },
     "execution_count": 59,
     "metadata": {},
     "output_type": "execute_result"
    }
   ],
   "source": [
    "# імпорт бібліотеки\n",
    "import qrcode\n",
    "\n",
    "# генеруємо код для сайту коледжу:)\n",
    "img = qrcode.make('http://polytechnic.poltava.ua')\n",
    "\n",
    "# виводимо код\n",
    "img"
   ]
  }
 ],
 "metadata": {
  "colab": {
   "name": "DiscreteMathExperiments.ipynb",
   "provenance": [],
   "toc_visible": true
  },
  "kernelspec": {
   "display_name": "Python 3",
   "language": "python",
   "name": "python3"
  },
  "language_info": {
   "codemirror_mode": {
    "name": "ipython",
    "version": 3
   },
   "file_extension": ".py",
   "mimetype": "text/x-python",
   "name": "python",
   "nbconvert_exporter": "python",
   "pygments_lexer": "ipython3",
   "version": "3.7.10"
  }
 },
 "nbformat": 4,
 "nbformat_minor": 1
}
